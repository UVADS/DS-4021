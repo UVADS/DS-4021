{
 "cells": [
  {
   "cell_type": "markdown",
   "id": "de4d6b36",
   "metadata": {},
   "source": [
    "# 🧪Lab: Predicting Seismic Building Response with Support Vector Regression\n",
    "\n",
    "In this lab, you will practice **Support Vector Machine (SVM)** in the context of **regression**. Over the past two weeks, we have focused on SVM for **classification problems**. However, SVM can also be extended to handle **regression tasks**—this is known as **Support Vector Regression (SVR)**.\n",
    "\n",
    "To explore this, you will work with the following paper:  https://www.nature.com/articles/s41598-024-81705-3\n",
    "\n",
    "In this paper, the authors use **real seismic monitoring data** to develop an SVR-based model for predicting the **maximum inter-story drift ratio** of buildings during earthquakes. The authors compare a full-feature model with a reduced-feature version, and demonstrate that SVR is effective in this complex, real-world regression setting.\n",
    "\n",
    "You will begin by reading the **introduction** of the paper to understand the motivation behind the problem. Later, you will apply Support Vector Regression to their dataset.\n",
    "\n",
    "Reference:\n",
    "\n",
    "- Tao, D., Fang, S., Liu, H. et al. Support vector regression model for the prediction of buildings’ maximum seismic response based on real monitoring data. Sci Rep 14, 29874 (2024). https://doi.org/10.1038/s41598-024-81705-3\n",
    "\n",
    "--- \n",
    "\n",
    "**Software**: Use `scikit-learn` and its implementation of Support Vector Regression in this lab. https://scikit-learn.org/stable/modules/generated/sklearn.svm.SVR.html\n",
    "\n",
    "---\n",
    "\n",
    "**Collaboration Note**: This assignment is designed to support collaborative work. We encourage you to divide tasks among group members so that everyone can contribute meaningfully. Many components of the assignment can be approached in parallel or split logically across team members. Good coordination and thoughtful integration of your work will lead to a stronger final result.\n",
    "\n",
    "--- \n",
    "\n",
    "In total, this lab assignment will be worth **100 points**."
   ]
  },
  {
   "cell_type": "markdown",
   "id": "6422ab1c-66fc-494d-855b-cfab5b5380b1",
   "metadata": {},
   "source": [
    "## 1. Paper reflection (10 points)"
   ]
  },
  {
   "cell_type": "markdown",
   "id": "82687de2-dfb0-46a9-b6da-faaedf339b5b",
   "metadata": {},
   "source": [
    "a. After reading the introduction of the paper, discuss within the group and address the following questions:\n",
    "   \n",
    "   - Why is predicting seismic building response important? (You may consider implications for human safety, economic losses, emergency planning, etc)\n",
    "\n",
    "- Why might the NDE1.0 dataset be particularly well-suited for a machine learning approach? (You may think about the volume and diversity of data, the types of features provided, and the limitations of traditional physics-based methods).\n",
    "\n",
    "Please, elaborate on your answers."
   ]
  },
  {
   "cell_type": "markdown",
   "id": "b3a73fa3-a712-4435-90d3-89a25ee8a634",
   "metadata": {},
   "source": [
    "YOUR TEXT HERE"
   ]
  },
  {
   "cell_type": "markdown",
   "id": "3ce47bb4-b3df-42f1-ac0f-a2cca273a190",
   "metadata": {},
   "source": [
    "b. After reading the paper, explain how Support Vector Regression (SVR) works. In addition, explain Formulas (1) to (11) from the paper, i.e. what is the intuition behind each equation?"
   ]
  },
  {
   "cell_type": "markdown",
   "id": "72eadea1-4303-4434-bbd1-93a34138038d",
   "metadata": {},
   "source": [
    "YOUR TEXT HERE"
   ]
  },
  {
   "cell_type": "markdown",
   "id": "ae89f5ea",
   "metadata": {},
   "source": [
    "## 2. Exploratory Analysis (15 Points)"
   ]
  },
  {
   "cell_type": "markdown",
   "id": "80a52c57",
   "metadata": {},
   "source": [
    "a. Download the NDE1.0 dataset from [this link](https://www.isterre.fr/annuaire/pages-web-du-personnel/philippe-gueguen/new-earthquake-data-recorded-in-buildings-nde1-0/article/acces-to-the-flatfile.html).\n",
    "\n",
    "Load the data and display the first few rows."
   ]
  },
  {
   "cell_type": "code",
   "execution_count": null,
   "id": "089390fe-5af0-4a42-8c4c-9f655b0f60e0",
   "metadata": {},
   "outputs": [],
   "source": [
    "# [Your code here]"
   ]
  },
  {
   "cell_type": "markdown",
   "id": "bdbf7a77",
   "metadata": {},
   "source": [
    "b. Explore the distribution of the target variable (Drift), and create scatterplots between Drift and input features.\n"
   ]
  },
  {
   "cell_type": "code",
   "execution_count": null,
   "id": "d1b033f4-f9e3-494a-ac8f-3c11d59ca0e1",
   "metadata": {},
   "outputs": [],
   "source": [
    "# [Your code here]"
   ]
  },
  {
   "cell_type": "markdown",
   "id": "5a41f98b-a81b-4fea-9058-fc0f699798e1",
   "metadata": {},
   "source": [
    "c. Highlight any particular pattern you observe from the visualizations. Which input features seem potentially more influential in predicting Drift?"
   ]
  },
  {
   "cell_type": "markdown",
   "id": "a711cfd7-a9e1-4289-81f0-1a11dfc479dd",
   "metadata": {},
   "source": [
    "YOUR TEXT HERE"
   ]
  },
  {
   "cell_type": "markdown",
   "id": "668e1cdd-5a35-4b47-a762-b6bdab27a5dd",
   "metadata": {},
   "source": [
    "## 3. Fit and test (30 points)"
   ]
  },
  {
   "cell_type": "markdown",
   "id": "92a00240",
   "metadata": {},
   "source": [
    "a. Fit and test a SVR model using all available features. This process should include an automatic tuning of both the kernel and the penalty term (C). Evaluate the model using at least Coefficient of determination (R²) and Mean Squared Error (MSE)."
   ]
  },
  {
   "cell_type": "code",
   "execution_count": null,
   "id": "a1dc781a-9107-4130-958b-6d22a488b77e",
   "metadata": {},
   "outputs": [],
   "source": [
    "# [Your code here]"
   ]
  },
  {
   "cell_type": "markdown",
   "id": "f1bca589-067a-4645-af01-da5882ea86d8",
   "metadata": {},
   "source": [
    "b. Repeat the previous process using an Ridge linear regression model. Be sure to include automatic tuning of the model’s hyperparameters, specifically, `alpha`."
   ]
  },
  {
   "cell_type": "code",
   "execution_count": null,
   "id": "2a7810ab-86cc-49b4-991c-cd8dd1cf308f",
   "metadata": {},
   "outputs": [],
   "source": [
    "# [Your code here]"
   ]
  },
  {
   "cell_type": "markdown",
   "id": "2c7bf2da-c83e-47bc-9101-e83a4aa826da",
   "metadata": {},
   "source": [
    "c. Use predicted vs. true value scatterplots to compare the SVR and Ridge models. Embed performance metrics (e.g., R², MSE) in each plot.\n",
    "\n",
    "Which model seems to perform better at this task?"
   ]
  },
  {
   "cell_type": "code",
   "execution_count": null,
   "id": "6a814c6f-2c78-46a0-a985-0baa66bf41ad",
   "metadata": {},
   "outputs": [],
   "source": [
    "# [Your code here]"
   ]
  },
  {
   "cell_type": "markdown",
   "id": "7d3a5812",
   "metadata": {},
   "source": [
    "## 4. Reduced SVR Model (30 points)"
   ]
  },
  {
   "cell_type": "markdown",
   "id": "b21365c9",
   "metadata": {},
   "source": [
    "a. Include a feature selection step in the SVR pipeline that selects the 10 features most correlated with Drift. Retrain and evaluate the model after this step."
   ]
  },
  {
   "cell_type": "code",
   "execution_count": null,
   "id": "1aeef416-bc61-4897-84dd-f929196752e3",
   "metadata": {},
   "outputs": [],
   "source": [
    "# [Your code here]"
   ]
  },
  {
   "cell_type": "markdown",
   "id": "7ea9b792-bc17-48cb-91be-4816026160ce",
   "metadata": {},
   "source": [
    "Subsequently, answer the following questions:\n",
    "\n",
    "- How much does the performance change?\n",
    "- What are the practical advantages of this smaller model?\n",
    "\n",
    "Elaborate on your answers."
   ]
  },
  {
   "cell_type": "markdown",
   "id": "cfc4dbce-7cab-46a6-8d0d-0c8eeacea436",
   "metadata": {},
   "source": [
    "b. Compare the performance of this reduced-feature pipeline with a Lasso regression model using all features.\n",
    "- Do both models select the same features?\n",
    "- How do their performances compare?"
   ]
  },
  {
   "cell_type": "code",
   "execution_count": null,
   "id": "ff4410cf-1fbe-4a2b-aa45-ff8b6cc215e5",
   "metadata": {},
   "outputs": [],
   "source": [
    "# [Your code here]"
   ]
  },
  {
   "cell_type": "markdown",
   "id": "fcbca9cc",
   "metadata": {},
   "source": [
    "## 5: Robustness to Point Removal (10 points)"
   ]
  },
  {
   "cell_type": "markdown",
   "id": "2d33c202",
   "metadata": {},
   "source": [
    "a. Compare the sensitivity of SVR and Ridge Regression to small changes in the training set. To achieve this, randomly remove 10 training points, retrain both models, and observe how much the predictions change.\n",
    "- Which model appears more stable?\n",
    "- Why?\n",
    "\n"
   ]
  },
  {
   "cell_type": "code",
   "execution_count": null,
   "id": "3d5863f5-6b39-490f-9561-6660d265a186",
   "metadata": {},
   "outputs": [],
   "source": [
    "# [Your code here]"
   ]
  },
  {
   "cell_type": "markdown",
   "id": "b2f72eef",
   "metadata": {},
   "source": [
    "## 6. Collaboration Reflection (5 points)\n",
    "\n",
    "As a group, briefly reflect on the following (max 1–2 short paragraphs):\n",
    "\n",
    "- How did the group dynamics work throughout the assignment?\n",
    "- Were there any major disagreements or diverging approaches?\n",
    "- How did you resolve conflicts or make final modeling decisions?\n",
    "- What did you learn from each other during this project?"
   ]
  },
  {
   "cell_type": "markdown",
   "id": "5f7dc847-633a-4ef4-9dc0-796951b4c5c6",
   "metadata": {},
   "source": [
    "YOUR TEXT HERE"
   ]
  }
 ],
 "metadata": {
  "kernelspec": {
   "display_name": "Python 3 (ipykernel)",
   "language": "python",
   "name": "python3"
  },
  "language_info": {
   "codemirror_mode": {
    "name": "ipython",
    "version": 3
   },
   "file_extension": ".py",
   "mimetype": "text/x-python",
   "name": "python",
   "nbconvert_exporter": "python",
   "pygments_lexer": "ipython3",
   "version": "3.11.9"
  }
 },
 "nbformat": 4,
 "nbformat_minor": 5
}
