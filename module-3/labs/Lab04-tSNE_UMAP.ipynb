{
 "cells": [
  {
   "cell_type": "markdown",
   "id": "1a13e4a6",
   "metadata": {},
   "source": [
    "# 🧪 LAB: Non-linear Dimensionality Reduction — t-SNE and UMAP\n",
    "\n",
    "Over the past few weeks, we have explored how to handle **non-linear relationships**, mainly in the context of **classification and regression** tasks.\n",
    "\n",
    "However, sometimes the first and most important step is to **visualize** the data — to gain intuition, spot structure, or detect outliers — even before any predictive modeling. You have already seen how **PCA** can help with this, but as we discussed this week, PCA is a **linear method** and may not capture non-linear patterns in the data effectively.\n",
    "\n",
    "In this lab, you will learn about two popular **non-linear dimensionality reduction techniques** that are particularly useful for **data visualization**:  \n",
    "- **t-SNE (t-distributed Stochastic Neighbor Embedding)**  \n",
    "- **UMAP (Uniform Manifold Approximation and Projection)**\n",
    "\n",
    "You will apply and compare these methods on two datasets:\n",
    "- A simple biological dataset: **Palmer Penguins**\n",
    "- A high-dimensional human genotype dataset from the **1000 Genomes Project** (adapted from Diaz-Papkovich *et al.*, 2019)\n",
    "\n",
    "---\n",
    "\n",
    "**Collaboration Note**: This assignment is designed to support collaborative work. We encourage you to divide tasks among group members so that everyone can contribute meaningfully. Many components of the assignment can be approached in parallel or split logically across team members. Good coordination and thoughtful integration of your work will lead to a stronger final result.\n",
    "\n",
    "---\n",
    "\n",
    "In total, this lab assignment will be worth **100 points**.\n",
    "--- \n",
    "**Submission notes**:\n",
    "\n",
    "* Write down all group members' names, or at least the group name (if you have one and you previously provided it), in the first cell of the notebook.\n",
    "\n",
    "* Verify that the notebook runs as expected and that all required outputs are included.\n"
   ]
  },
  {
   "cell_type": "markdown",
   "id": "439786e6-68a1-4ca5-aaee-1b4447a20a29",
   "metadata": {},
   "source": [
    "## 1. Background Reading (20 points)\n",
    "\n",
    "Begin by reading **Section 5.3: t-SNE and UMAP for High-Dimensional Data** from the [*Machine Learning Hero* book](https://www.oreilly.com/library/view/machine-learning-hero/9781837025015/), which is available through UVA’s subscription to O’Reilly.\n",
    "\n",
    "After reading, discuss with your group and respond to the following questions:\n",
    "\n",
    "a. **Why might we choose t-SNE or UMAP over PCA for dimensionality reduction?**  \n",
    "Briefly explain the limitations of PCA, and why non-linear methods like t-SNE and UMAP can be more effective in some contexts.\n",
    "\n",
    "b. **Summarize the strengths and weaknesses of t-SNE and UMAP.**  \n",
    "What are the key differences between the two methods? In what situations might you prefer one over the other?\n",
    "\n",
    "c. **What are the main hyperparameters of each method, and what role do they play?**  \n",
    "Describe how these hyperparameters affect the behavior and output of the algorithms.\n"
   ]
  },
  {
   "cell_type": "markdown",
   "id": "9a1e3a7f-dfc9-40bf-814b-1d8a1a934cdc",
   "metadata": {},
   "source": [
    "YOUR TEXT HERE"
   ]
  },
  {
   "cell_type": "markdown",
   "id": "3e9202fc",
   "metadata": {},
   "source": [
    "## 2. Experiment with the Palmer Penguins Dataset (Toy Example) (50 points)\n",
    "\n",
    "To get hands-on experience, you will begin by applying dimensionality reduction techniques to a small and interpretable dataset: **Palmer Penguins**.\n",
    "\n",
    "Before you begin coding, read the official documentation for the following methods:\n",
    "\n",
    "- [PCA](https://scikit-learn.org/stable/modules/generated/sklearn.decomposition.PCA.html) — from `sklearn.decomposition`\n",
    "- [t-SNE](https://scikit-learn.org/stable/modules/generated/sklearn.manifold.TSNE.html) — from `sklearn.manifold`\n",
    "- [UMAP](https://umap-learn.readthedocs.io/en/latest/basic_usage.html) — from the `umap-learn` package\n",
    "\n",
    "After reviewing the documentation, complete the following tasks:"
   ]
  },
  {
   "cell_type": "markdown",
   "id": "dd1acc90-f94e-43da-8420-58d229324382",
   "metadata": {},
   "source": [
    "a. Load the **Palmer Penguins** dataset as demonstrated in the [UMAP documentation](https://umap-learn.readthedocs.io/en/latest/basic_usage.html#penguin-data).  \n",
    "\n",
    "Select the following numerical features:\n",
    "\n",
    "- `bill_length_mm`  \n",
    "- `bill_depth_mm`  \n",
    "- `flipper_length_mm`  \n",
    "- `body_mass_g`\n",
    "\n",
    "Then, **standardize** these features so that each has zero mean and unit variance."
   ]
  },
  {
   "cell_type": "code",
   "execution_count": null,
   "id": "77ea17a8-2f66-4c79-a32a-6715f6c0119b",
   "metadata": {},
   "outputs": [],
   "source": [
    "# YOUR CODE HERE"
   ]
  },
  {
   "cell_type": "markdown",
   "id": "410ba2e4-c7d1-4550-a6ee-a155e6998ee2",
   "metadata": {},
   "source": [
    "b. Apply **PCA**, **t-SNE**, and **UMAP** to reduce the selected features to **2 dimensions**.\n",
    "\n",
    "Then, for each method:\n",
    "- Create a **scatter plot** of the 2D projection.\n",
    "- Use a different color to represent each **species** in the dataset.\n",
    "\n",
    "This will help you visually assess how well each method separates the species in the reduced space.\n"
   ]
  },
  {
   "cell_type": "code",
   "execution_count": null,
   "id": "7d9873e8-baeb-4b3a-a31c-cf7061f79add",
   "metadata": {},
   "outputs": [],
   "source": [
    "# YOUR CODE HERE"
   ]
  },
  {
   "cell_type": "markdown",
   "id": "c7c85ce5-fba7-4362-a289-31f03afb5e7b",
   "metadata": {},
   "source": [
    "c. Analyze the resulting plots and describe the main patterns you observe.\n",
    "\n",
    "- Which method produces the most visually separable clusters?\n",
    "- Are there any species that overlap in one method but not in others?\n",
    "- What might explain these differences in how the data is projected?\n",
    "\n",
    "Elaborate on your observations and compare the strengths and limitations of each method based on this toy example.\n"
   ]
  },
  {
   "cell_type": "markdown",
   "id": "47832853-b94c-434e-b084-7f706a1536b4",
   "metadata": {},
   "source": [
    "YOUR TEXT HERE"
   ]
  },
  {
   "cell_type": "markdown",
   "id": "a90fb98e-c6f1-4d0a-b125-d6bb7fe66d6f",
   "metadata": {},
   "source": [
    "d. For **t-SNE** and **UMAP**, explore how different hyperparameter settings affect the resulting 2D projections.\n",
    "\n",
    "- For **t-SNE**, vary the `perplexity` parameter (e.g., 5, 30, 50).\n",
    "- For **UMAP**, vary the `n_neighbors` parameter (e.g., 5, 15, 50) and optionally `min_dist`.\n",
    "\n",
    "For each configuration:\n",
    "- Plot the resulting 2D projection.\n",
    "- Use color to represent species."
   ]
  },
  {
   "cell_type": "code",
   "execution_count": null,
   "id": "d7cbc943-db20-4d19-be66-1e596650f2a3",
   "metadata": {},
   "outputs": [],
   "source": [
    "# YOUR CODE HERE"
   ]
  },
  {
   "cell_type": "markdown",
   "id": "dc3e439e-4735-4981-bf24-a8861b63431c",
   "metadata": {},
   "source": [
    "After generating the plots, describe the main changes you observe in the visualizations:\n",
    "- How do the clusters shift, stretch, or separate as hyperparameters change?\n",
    "- Which settings appear to better preserve the structure of the data?\n",
    "\n",
    "Elaborate on your observations and support your discussion with specific visual examples."
   ]
  },
  {
   "cell_type": "markdown",
   "id": "87d70230-c299-4791-b3fd-882bce43ff13",
   "metadata": {},
   "source": [
    "YOUR TEXT HERE"
   ]
  },
  {
   "cell_type": "markdown",
   "id": "47aefd5e-99fa-4f60-ae2b-a5855945e689",
   "metadata": {},
   "source": [
    "## 3. Apply to Real Data (1000 Genomes Subset) (25 points)\n",
    "\n",
    "Your goal in this section is to **try to create a figure similar to Figure 1** of the Diaz-Papkovich *et al.* (2019) paper, using a subset of genotype data from the **1000 Genomes Project**.\n",
    "\n",
    "To do so, complete the following steps:\n",
    "\n",
    "a. **Download and load the dataset.**  \n",
    "You can find the genotype data here:  \n",
    "https://github.com/UVADS/DS-4021/blob/205ec2f2fb986f5e9db863409bed94a54b9da72d/datasets/genome_data_lab4.npy  \n",
    "Each row corresponds to an individual, and each column to a genetic variant.  \n",
    "\n",
    "Population labels for each individual can be found here:  \n",
    "https://github.com/UVADS/DS-4021/blob/205ec2f2fb986f5e9db863409bed94a54b9da72d/datasets/population_labels_lab4.txt\n",
    "\n",
    "b. **Standardize** the features (i.e., transform the genotype values to have zero mean and unit variance).\n",
    "\n",
    "c. Apply **PCA**, **t-SNE**, and **UMAP** to reduce the data to 2 dimensions.\n",
    "\n",
    "d. Create **scatter plots** of the resulting projections, coloring each point according to its **population group**.\n",
    "\n",
    "e. Reflect on the following questions:\n",
    "- Which method provides the best visual separation of global population groups?\n",
    "- What changes if you first reduce the data to the **top 25 PCA components**, and then apply t-SNE or UMAP?\n",
    "- What are the trade-offs between **interpretability** and **performance** when using these dimensionality reduction methods?\n",
    "\n",
    "Please elaborate on your answers and use the plots to support your discussion."
   ]
  },
  {
   "cell_type": "code",
   "execution_count": null,
   "id": "36794579-17e0-4873-950d-b32d6d9dc905",
   "metadata": {},
   "outputs": [],
   "source": [
    "# YOUR CODE HERE"
   ]
  },
  {
   "cell_type": "markdown",
   "id": "0c33473f-39c9-407b-af5b-5ccf2ccb48ac",
   "metadata": {},
   "source": [
    "## 4. Collaboration Reflection (5 points)\n",
    "\n",
    "As a group, briefly reflect on the following (max 1–2 short paragraphs):\n",
    "\n",
    "- How did the group dynamics work throughout the assignment?\n",
    "- Were there any major disagreements or diverging approaches?\n",
    "- How did you resolve conflicts or make final modeling decisions?\n",
    "- What did you learn from each other during this project?"
   ]
  },
  {
   "cell_type": "markdown",
   "id": "7b5ff0ec-0e7a-42f0-9a18-324b27920d05",
   "metadata": {},
   "source": [
    "YOUR TEXT HERE"
   ]
  }
 ],
 "metadata": {
  "kernelspec": {
   "display_name": "Python 3 (ipykernel)",
   "language": "python",
   "name": "python3"
  },
  "language_info": {
   "codemirror_mode": {
    "name": "ipython",
    "version": 3
   },
   "file_extension": ".py",
   "mimetype": "text/x-python",
   "name": "python",
   "nbconvert_exporter": "python",
   "pygments_lexer": "ipython3",
   "version": "3.11.9"
  }
 },
 "nbformat": 4,
 "nbformat_minor": 5
}
