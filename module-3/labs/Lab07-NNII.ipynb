{
 "cells": [
  {
   "cell_type": "markdown",
   "id": "c6312ffd-b235-434f-ba74-feee5d791f8e",
   "metadata": {},
   "source": [
    "# 🧪 LAB: Machine Learning to Predict Concrete Compressive Strength\n",
    "\n",
    "In this lab, you will apply `PyTorch` to a real-world data problem. You will implement a Neural Network in `PyTorch` using the new functionalities introduced this week and compare its performance with a Support Vector Machine and Linear Regression.\n",
    "\n",
    "Your goal is to predict the **compressive strength of concrete** (the outcome variable, *Y*) based on a set of input features (*X*), including:\n",
    "**Cement, Blast Furnace Slag, Fly Ash, Water, Superplasticizer, Coarse Aggregate, Fine Aggregate, and Age.**\n",
    "\n",
    "This dataset and problem are based on the following paper:\n",
    "\n",
    "```\n",
    "- I-Cheng Yeh, \"Modeling of strength of high performance concrete using artificial neural networks,\" Cement and Concrete Research, Vol. 28, No. 12, pp. 1797-1808 (1998). [Link to the paper](https://raw.githubusercontent.com/UVADS/DS-4021/refs/heads/main/datasets/yeh1998.pdf).\n",
    "\n",
    "---\n",
    "\n",
    "**Collaboration Note**: This assignment is designed to support collaborative work. We encourage you to divide tasks among group members so that everyone can contribute meaningfully. Many components of the assignment can be approached in parallel or split logically across team members. Good coordination and thoughtful integration of your work will lead to a stronger final result.\n",
    "\n",
    "---\n",
    "\n",
    "In total, this lab assignment will be worth **100 points**.\n",
    "\n",
    "--- \n",
    "**Submission notes**:\n",
    "\n",
    "* Write down all group members' names, or at least the group name (if you have one and you previously provided it), in the first cell of the notebook.\n",
    "\n",
    "* Verify that the notebook runs as expected and that all required outputs are included."
   ]
  },
  {
   "cell_type": "markdown",
   "id": "6234b588-43eb-4bf4-8d29-d7a5814da8fa",
   "metadata": {},
   "source": [
    "NAME(s) = \"\""
   ]
  },
  {
   "cell_type": "markdown",
   "id": "73c234a6-32a3-4832-8026-804322e92d60",
   "metadata": {},
   "source": [
    "# 0. Overall Instructions "
   ]
  },
  {
   "cell_type": "markdown",
   "id": "84832ec2-b8de-422d-9270-c9ff1353060f",
   "metadata": {},
   "source": [
    "In this lab, you will work with three models: a **Neural Network**, a **Support Vector Machine (SVM)**, and some form of **Linear Regression**. Each should meet the following requirments:\n",
    "\n",
    "- **Do not tune the models**. For example, for the Neural Network, choose any number of layers and hidden units you prefer; for the SVM, select a kernel of your choice (e.g., linear, RBF, polynomial), etc.\n",
    "\n",
    "- **Evaluate model performance using k-fold cross-validation**. That is, run each model using a chosen number of folds (*k*), and report the average performance across all folds. You may select the value of *k* that you want.\n",
    "\n",
    "- **Be careful with data preprocessing**. Apply all preprocessing steps properly to avoid data leakage (e.g. standardizing features before data splitting)"
   ]
  },
  {
   "cell_type": "markdown",
   "id": "de7563a3-b729-4ff4-ab27-e956222b61ab",
   "metadata": {},
   "source": [
    "## 1. Pre-implementation Group Discussion (15 points)\n",
    "\n",
    "In your group, discuss, agree on, and elaborate the following points:\n",
    "\n",
    "- **Descriptive analysis**. Identify what exploratory or descriptive analyses you can perform to better understand the relationship between each input variable and the outcome. Consider both visual (e.g., scatter plots, histograms) and statistical summaries.\n",
    "\n",
    "- **Data preprocessing**. Decide what preprocessing steps are necessary given that you will be using neural networks. \n",
    "\n",
    "- **Model configuration**. Specify which cost function and output layer activation are most appropriate for your problem type (e.g., regression vs. classification). Explain your reasoning based on the nature of the outcome variable.\n",
    "\n",
    "- **Performance evaluation**. Describe how you will perform k-fold cross-validation to assess your model’s performance. Include how you will divide the data, compute metrics across folds, and report the final averaged results."
   ]
  },
  {
   "cell_type": "markdown",
   "id": "b88acce5-d172-4ef2-b0ad-81328dd6978f",
   "metadata": {},
   "source": [
    "USE AS MANY MARKDOWN CELLS AS NEEDED"
   ]
  },
  {
   "cell_type": "markdown",
   "id": "4bd43dfd-6d9e-47e2-8923-0807c1fcf621",
   "metadata": {},
   "source": [
    "## 2- Descriptive analysis (10 pints)\n",
    "\n",
    "Apply the descriptive analyses that your group agreed upon in the previous section.\n",
    "\n",
    "**N.B.** I don't need to say that at this stage you will need to load the data as this will be necessary for completing this and the following exercises..."
   ]
  },
  {
   "cell_type": "code",
   "execution_count": 3,
   "id": "d56dd8c5-e6d9-4e6e-afec-56a9be6e9c3a",
   "metadata": {},
   "outputs": [],
   "source": [
    "# USE AS MANY CELLS AS NEEDED"
   ]
  },
  {
   "cell_type": "markdown",
   "id": "9288dd02-1156-4211-854c-d323b5a0b70c",
   "metadata": {},
   "source": [
    "## 3- Neural Network (40 points)\n",
    "\n",
    "Implement a neural network as you did in Lab 05, but this time leverage the new functionalities introduced this week. Specifically:\n",
    "\n",
    "- Your class implementing the neural network should inherit from nn.Module.\n",
    "\n",
    "- Use `nn.Linear` for the linear transformations between layers, `nn.ReLU` for the hidden-layer activations, and the appropriate activation function for the output layer (e.g., nn.Sigmoid for binary classification).\n",
    "\n",
    "- Use the appropriate cost function from `torch.nn` for your task (e.g., `nn.MSELoss`, `nn.BCELoss`).\n",
    "\n",
    "- Use Stochastic Gradient Descent (SGD) from `torch.optim` as the optimizer.\n",
    "\n",
    "- Use `DataLoader` to efficiently do batch processing. You may choose the batch size freely.\n",
    "\n",
    "Once you have implemented this class, create an instance of it, then train and test your model on the lab dataset.\n",
    "\n",
    "**Remember to follow the general requirements regarding model tuning, evaluation, and data preprocessing described earlier.**"
   ]
  },
  {
   "cell_type": "code",
   "execution_count": 4,
   "id": "1eaa50f4-594e-4e1e-8a9f-be523e223bc0",
   "metadata": {},
   "outputs": [],
   "source": [
    "# USE AS MANY CELLS AS NEEDED"
   ]
  },
  {
   "cell_type": "markdown",
   "id": "b119fc44-bbd2-472c-a937-ad4874e21fda",
   "metadata": {},
   "source": [
    "## 4- Replication (10 points)\n",
    "\n",
    "Replicate your neural network results using the corresponding model class from `scikit-learn`. Be sure to apply the same neural network architecture as well as same procedures for model evaluation and preprocessing to ensure a fair comparison.\n",
    "\n",
    "**Remember**: Follow the general requirements regarding model tuning, evaluation, and data preprocessing described earlier."
   ]
  },
  {
   "cell_type": "code",
   "execution_count": 5,
   "id": "257563f5-363d-4934-aeb8-c38cab6237e9",
   "metadata": {},
   "outputs": [],
   "source": [
    "# USE AS MANY CELLS AS NEEDED"
   ]
  },
  {
   "cell_type": "markdown",
   "id": "bd81a979-355b-43dc-95e6-b1fb0586b1d1",
   "metadata": {},
   "source": [
    "## 5- Comparison (20 points)\n",
    "\n",
    "Apply a Support Vector Machine (SVM) and Linear Regression model to the dataset, and compare their performance with that of your Neural Network.\n",
    "\n",
    "Discuss any similarities or differences you observe in their results and provide possible explanations for these patterns.\n",
    "\n",
    "Be sure to apply the k-fold cross-validation procedure to ensure a fair comparison across all models.\n",
    "\n",
    "**Remember**: Follow the general requirements regarding model tuning, evaluation, and data preprocessing described earlier."
   ]
  },
  {
   "cell_type": "code",
   "execution_count": 6,
   "id": "5709a01d-4e9e-45c8-9bf2-7dc5f8d57f91",
   "metadata": {},
   "outputs": [],
   "source": [
    "# USE AS MANY CELLS AS NEEDED"
   ]
  },
  {
   "cell_type": "markdown",
   "id": "1d6dfd7c-0f68-4f20-8331-11ebc6807710",
   "metadata": {},
   "source": [
    "## 5. Collaboration Reflection (5 points)\n",
    "\n",
    "As a group, briefly reflect on the following (max 1–2 short paragraphs):\n",
    "\n",
    "- How did the group dynamics work throughout the assignment?\n",
    "- Were there any major disagreements or diverging approaches?\n",
    "- How did you resolve conflicts or make final modeling decisions?\n",
    "- What did you learn from each other during this project?"
   ]
  },
  {
   "cell_type": "markdown",
   "id": "746609cd-633a-4c72-9df8-2c712e5df986",
   "metadata": {},
   "source": [
    "YOUR TEXT HERE"
   ]
  }
 ],
 "metadata": {
  "kernelspec": {
   "display_name": "Python 3 (ipykernel)",
   "language": "python",
   "name": "python3"
  },
  "language_info": {
   "codemirror_mode": {
    "name": "ipython",
    "version": 3
   },
   "file_extension": ".py",
   "mimetype": "text/x-python",
   "name": "python",
   "nbconvert_exporter": "python",
   "pygments_lexer": "ipython3",
   "version": "3.11.9"
  }
 },
 "nbformat": 4,
 "nbformat_minor": 5
}
