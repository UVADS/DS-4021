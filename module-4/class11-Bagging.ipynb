{
 "cells": [
  {
   "cell_type": "markdown",
   "id": "b74d6f37-64db-4d39-9062-7773ea1c4668",
   "metadata": {},
   "source": [
    "# Bagging: Bootstrap Aggregating and Random Forest\n",
    "\n",
    "This is your first lesson dedicated to **ensemble methods** and **meta-learning**. In this session, we focus on **Bagging**, a powerful technique that applies the **same learner** to multiple **resampled versions** of the training data, and then combines their predictions. The final output is obtained by **averaging** (for regression) or **majority voting** (for classification).\n",
    "\n",
    "By the end of this lesson, you should be able to:\n",
    "\n",
    "- Understand the **limitations** of predictive models such as Decision Trees.\n",
    "- Explain how combining the same learner over different resampled datasets can **improve predictive performance**.\n",
    "- See how introducing **randomness in feature selection** — the key idea behind **Random Forests** — further improves **generalization**.\n"
   ]
  },
  {
   "cell_type": "markdown",
   "id": "cb139e5c-f95d-4630-99d8-7c148f7378af",
   "metadata": {},
   "source": [
    "## 1. Introduction: Decision tree\n",
    "\n",
    "Let's start this lesson generating some toy data for classification."
   ]
  },
  {
   "cell_type": "code",
   "execution_count": 1,
   "id": "0721cad2-5d1f-4674-ab39-6bf280e425cc",
   "metadata": {},
   "outputs": [],
   "source": [
    "from sklearn.datasets import make_classification\n",
    "from sklearn.utils import resample\n",
    "from sklearn.metrics import accuracy_score\n",
    "from sklearn.model_selection import train_test_split\n",
    "import numpy as np\n",
    "from sklearn.inspection import DecisionBoundaryDisplay\n",
    "\n",
    "import matplotlib.pyplot as plt\n",
    "\n",
    "X, y = make_classification(n_samples=500, n_features=2, n_informative=2, n_redundant=0, random_state=42, class_sep=0.15, flip_y=0.1)\n",
    "\n",
    "X_train, X_test, y_train, y_test = train_test_split(X, y, test_size=0.2, random_state=1234)"
   ]
  },
  {
   "cell_type": "markdown",
   "id": "11f15e67-079a-4c2a-837a-9d93fa884b3a",
   "metadata": {},
   "source": [
    "In DS-3001, you already learned about Decision Trees.\n",
    "\n",
    "Just to refresh your memory: Decision Trees are predictive methods used for both classification and regression. They work by **splitting the data** based on a **decision rule** applied to **a single feature at a time**.\n",
    "\n",
    "What determines which feature to split on? It is the one that leads to the best quality of the data after the split.\n",
    "\n",
    "For example, if we are doing binary classification, and splitting the data on a certain feature results in two subgroups (nodes) where each group contains mostly one class label, then that is a good split. It is better than a split where both groups are still a mix of labels.\n",
    "\n",
    "Decision Trees continue splitting the data until a stopping criterion is met. Typically, this happens when there are no more useful splits — for instance, when all observations in a node belong to the same class or there are too few samples left to split meaningfully.\n",
    "\n",
    "Since Decision Trees are based on decision rules rather than learning fixed parameters, they are considered **non-parametric** methods.\n",
    "\n",
    "They can be very powerful — and the best part is, they are highly interpretable. You can simply look at the different splits throughout the tree to understand which features matter and why the model is making its predictions.\n",
    "\n",
    "In `scikit-learn` this method is implemented through the `DecisionTreeClassifier` and `DecisionTreeRegressor` classes."
   ]
  },
  {
   "cell_type": "code",
   "execution_count": 2,
   "id": "b07c5733-9e22-4e6a-913f-2e8e38750fd8",
   "metadata": {},
   "outputs": [
    {
     "data": {
      "text/html": [
       "<style>#sk-container-id-1 {\n",
       "  /* Definition of color scheme common for light and dark mode */\n",
       "  --sklearn-color-text: black;\n",
       "  --sklearn-color-line: gray;\n",
       "  /* Definition of color scheme for unfitted estimators */\n",
       "  --sklearn-color-unfitted-level-0: #fff5e6;\n",
       "  --sklearn-color-unfitted-level-1: #f6e4d2;\n",
       "  --sklearn-color-unfitted-level-2: #ffe0b3;\n",
       "  --sklearn-color-unfitted-level-3: chocolate;\n",
       "  /* Definition of color scheme for fitted estimators */\n",
       "  --sklearn-color-fitted-level-0: #f0f8ff;\n",
       "  --sklearn-color-fitted-level-1: #d4ebff;\n",
       "  --sklearn-color-fitted-level-2: #b3dbfd;\n",
       "  --sklearn-color-fitted-level-3: cornflowerblue;\n",
       "\n",
       "  /* Specific color for light theme */\n",
       "  --sklearn-color-text-on-default-background: var(--sg-text-color, var(--theme-code-foreground, var(--jp-content-font-color1, black)));\n",
       "  --sklearn-color-background: var(--sg-background-color, var(--theme-background, var(--jp-layout-color0, white)));\n",
       "  --sklearn-color-border-box: var(--sg-text-color, var(--theme-code-foreground, var(--jp-content-font-color1, black)));\n",
       "  --sklearn-color-icon: #696969;\n",
       "\n",
       "  @media (prefers-color-scheme: dark) {\n",
       "    /* Redefinition of color scheme for dark theme */\n",
       "    --sklearn-color-text-on-default-background: var(--sg-text-color, var(--theme-code-foreground, var(--jp-content-font-color1, white)));\n",
       "    --sklearn-color-background: var(--sg-background-color, var(--theme-background, var(--jp-layout-color0, #111)));\n",
       "    --sklearn-color-border-box: var(--sg-text-color, var(--theme-code-foreground, var(--jp-content-font-color1, white)));\n",
       "    --sklearn-color-icon: #878787;\n",
       "  }\n",
       "}\n",
       "\n",
       "#sk-container-id-1 {\n",
       "  color: var(--sklearn-color-text);\n",
       "}\n",
       "\n",
       "#sk-container-id-1 pre {\n",
       "  padding: 0;\n",
       "}\n",
       "\n",
       "#sk-container-id-1 input.sk-hidden--visually {\n",
       "  border: 0;\n",
       "  clip: rect(1px 1px 1px 1px);\n",
       "  clip: rect(1px, 1px, 1px, 1px);\n",
       "  height: 1px;\n",
       "  margin: -1px;\n",
       "  overflow: hidden;\n",
       "  padding: 0;\n",
       "  position: absolute;\n",
       "  width: 1px;\n",
       "}\n",
       "\n",
       "#sk-container-id-1 div.sk-dashed-wrapped {\n",
       "  border: 1px dashed var(--sklearn-color-line);\n",
       "  margin: 0 0.4em 0.5em 0.4em;\n",
       "  box-sizing: border-box;\n",
       "  padding-bottom: 0.4em;\n",
       "  background-color: var(--sklearn-color-background);\n",
       "}\n",
       "\n",
       "#sk-container-id-1 div.sk-container {\n",
       "  /* jupyter's `normalize.less` sets `[hidden] { display: none; }`\n",
       "     but bootstrap.min.css set `[hidden] { display: none !important; }`\n",
       "     so we also need the `!important` here to be able to override the\n",
       "     default hidden behavior on the sphinx rendered scikit-learn.org.\n",
       "     See: https://github.com/scikit-learn/scikit-learn/issues/21755 */\n",
       "  display: inline-block !important;\n",
       "  position: relative;\n",
       "}\n",
       "\n",
       "#sk-container-id-1 div.sk-text-repr-fallback {\n",
       "  display: none;\n",
       "}\n",
       "\n",
       "div.sk-parallel-item,\n",
       "div.sk-serial,\n",
       "div.sk-item {\n",
       "  /* draw centered vertical line to link estimators */\n",
       "  background-image: linear-gradient(var(--sklearn-color-text-on-default-background), var(--sklearn-color-text-on-default-background));\n",
       "  background-size: 2px 100%;\n",
       "  background-repeat: no-repeat;\n",
       "  background-position: center center;\n",
       "}\n",
       "\n",
       "/* Parallel-specific style estimator block */\n",
       "\n",
       "#sk-container-id-1 div.sk-parallel-item::after {\n",
       "  content: \"\";\n",
       "  width: 100%;\n",
       "  border-bottom: 2px solid var(--sklearn-color-text-on-default-background);\n",
       "  flex-grow: 1;\n",
       "}\n",
       "\n",
       "#sk-container-id-1 div.sk-parallel {\n",
       "  display: flex;\n",
       "  align-items: stretch;\n",
       "  justify-content: center;\n",
       "  background-color: var(--sklearn-color-background);\n",
       "  position: relative;\n",
       "}\n",
       "\n",
       "#sk-container-id-1 div.sk-parallel-item {\n",
       "  display: flex;\n",
       "  flex-direction: column;\n",
       "}\n",
       "\n",
       "#sk-container-id-1 div.sk-parallel-item:first-child::after {\n",
       "  align-self: flex-end;\n",
       "  width: 50%;\n",
       "}\n",
       "\n",
       "#sk-container-id-1 div.sk-parallel-item:last-child::after {\n",
       "  align-self: flex-start;\n",
       "  width: 50%;\n",
       "}\n",
       "\n",
       "#sk-container-id-1 div.sk-parallel-item:only-child::after {\n",
       "  width: 0;\n",
       "}\n",
       "\n",
       "/* Serial-specific style estimator block */\n",
       "\n",
       "#sk-container-id-1 div.sk-serial {\n",
       "  display: flex;\n",
       "  flex-direction: column;\n",
       "  align-items: center;\n",
       "  background-color: var(--sklearn-color-background);\n",
       "  padding-right: 1em;\n",
       "  padding-left: 1em;\n",
       "}\n",
       "\n",
       "\n",
       "/* Toggleable style: style used for estimator/Pipeline/ColumnTransformer box that is\n",
       "clickable and can be expanded/collapsed.\n",
       "- Pipeline and ColumnTransformer use this feature and define the default style\n",
       "- Estimators will overwrite some part of the style using the `sk-estimator` class\n",
       "*/\n",
       "\n",
       "/* Pipeline and ColumnTransformer style (default) */\n",
       "\n",
       "#sk-container-id-1 div.sk-toggleable {\n",
       "  /* Default theme specific background. It is overwritten whether we have a\n",
       "  specific estimator or a Pipeline/ColumnTransformer */\n",
       "  background-color: var(--sklearn-color-background);\n",
       "}\n",
       "\n",
       "/* Toggleable label */\n",
       "#sk-container-id-1 label.sk-toggleable__label {\n",
       "  cursor: pointer;\n",
       "  display: block;\n",
       "  width: 100%;\n",
       "  margin-bottom: 0;\n",
       "  padding: 0.5em;\n",
       "  box-sizing: border-box;\n",
       "  text-align: center;\n",
       "}\n",
       "\n",
       "#sk-container-id-1 label.sk-toggleable__label-arrow:before {\n",
       "  /* Arrow on the left of the label */\n",
       "  content: \"▸\";\n",
       "  float: left;\n",
       "  margin-right: 0.25em;\n",
       "  color: var(--sklearn-color-icon);\n",
       "}\n",
       "\n",
       "#sk-container-id-1 label.sk-toggleable__label-arrow:hover:before {\n",
       "  color: var(--sklearn-color-text);\n",
       "}\n",
       "\n",
       "/* Toggleable content - dropdown */\n",
       "\n",
       "#sk-container-id-1 div.sk-toggleable__content {\n",
       "  max-height: 0;\n",
       "  max-width: 0;\n",
       "  overflow: hidden;\n",
       "  text-align: left;\n",
       "  /* unfitted */\n",
       "  background-color: var(--sklearn-color-unfitted-level-0);\n",
       "}\n",
       "\n",
       "#sk-container-id-1 div.sk-toggleable__content.fitted {\n",
       "  /* fitted */\n",
       "  background-color: var(--sklearn-color-fitted-level-0);\n",
       "}\n",
       "\n",
       "#sk-container-id-1 div.sk-toggleable__content pre {\n",
       "  margin: 0.2em;\n",
       "  border-radius: 0.25em;\n",
       "  color: var(--sklearn-color-text);\n",
       "  /* unfitted */\n",
       "  background-color: var(--sklearn-color-unfitted-level-0);\n",
       "}\n",
       "\n",
       "#sk-container-id-1 div.sk-toggleable__content.fitted pre {\n",
       "  /* unfitted */\n",
       "  background-color: var(--sklearn-color-fitted-level-0);\n",
       "}\n",
       "\n",
       "#sk-container-id-1 input.sk-toggleable__control:checked~div.sk-toggleable__content {\n",
       "  /* Expand drop-down */\n",
       "  max-height: 200px;\n",
       "  max-width: 100%;\n",
       "  overflow: auto;\n",
       "}\n",
       "\n",
       "#sk-container-id-1 input.sk-toggleable__control:checked~label.sk-toggleable__label-arrow:before {\n",
       "  content: \"▾\";\n",
       "}\n",
       "\n",
       "/* Pipeline/ColumnTransformer-specific style */\n",
       "\n",
       "#sk-container-id-1 div.sk-label input.sk-toggleable__control:checked~label.sk-toggleable__label {\n",
       "  color: var(--sklearn-color-text);\n",
       "  background-color: var(--sklearn-color-unfitted-level-2);\n",
       "}\n",
       "\n",
       "#sk-container-id-1 div.sk-label.fitted input.sk-toggleable__control:checked~label.sk-toggleable__label {\n",
       "  background-color: var(--sklearn-color-fitted-level-2);\n",
       "}\n",
       "\n",
       "/* Estimator-specific style */\n",
       "\n",
       "/* Colorize estimator box */\n",
       "#sk-container-id-1 div.sk-estimator input.sk-toggleable__control:checked~label.sk-toggleable__label {\n",
       "  /* unfitted */\n",
       "  background-color: var(--sklearn-color-unfitted-level-2);\n",
       "}\n",
       "\n",
       "#sk-container-id-1 div.sk-estimator.fitted input.sk-toggleable__control:checked~label.sk-toggleable__label {\n",
       "  /* fitted */\n",
       "  background-color: var(--sklearn-color-fitted-level-2);\n",
       "}\n",
       "\n",
       "#sk-container-id-1 div.sk-label label.sk-toggleable__label,\n",
       "#sk-container-id-1 div.sk-label label {\n",
       "  /* The background is the default theme color */\n",
       "  color: var(--sklearn-color-text-on-default-background);\n",
       "}\n",
       "\n",
       "/* On hover, darken the color of the background */\n",
       "#sk-container-id-1 div.sk-label:hover label.sk-toggleable__label {\n",
       "  color: var(--sklearn-color-text);\n",
       "  background-color: var(--sklearn-color-unfitted-level-2);\n",
       "}\n",
       "\n",
       "/* Label box, darken color on hover, fitted */\n",
       "#sk-container-id-1 div.sk-label.fitted:hover label.sk-toggleable__label.fitted {\n",
       "  color: var(--sklearn-color-text);\n",
       "  background-color: var(--sklearn-color-fitted-level-2);\n",
       "}\n",
       "\n",
       "/* Estimator label */\n",
       "\n",
       "#sk-container-id-1 div.sk-label label {\n",
       "  font-family: monospace;\n",
       "  font-weight: bold;\n",
       "  display: inline-block;\n",
       "  line-height: 1.2em;\n",
       "}\n",
       "\n",
       "#sk-container-id-1 div.sk-label-container {\n",
       "  text-align: center;\n",
       "}\n",
       "\n",
       "/* Estimator-specific */\n",
       "#sk-container-id-1 div.sk-estimator {\n",
       "  font-family: monospace;\n",
       "  border: 1px dotted var(--sklearn-color-border-box);\n",
       "  border-radius: 0.25em;\n",
       "  box-sizing: border-box;\n",
       "  margin-bottom: 0.5em;\n",
       "  /* unfitted */\n",
       "  background-color: var(--sklearn-color-unfitted-level-0);\n",
       "}\n",
       "\n",
       "#sk-container-id-1 div.sk-estimator.fitted {\n",
       "  /* fitted */\n",
       "  background-color: var(--sklearn-color-fitted-level-0);\n",
       "}\n",
       "\n",
       "/* on hover */\n",
       "#sk-container-id-1 div.sk-estimator:hover {\n",
       "  /* unfitted */\n",
       "  background-color: var(--sklearn-color-unfitted-level-2);\n",
       "}\n",
       "\n",
       "#sk-container-id-1 div.sk-estimator.fitted:hover {\n",
       "  /* fitted */\n",
       "  background-color: var(--sklearn-color-fitted-level-2);\n",
       "}\n",
       "\n",
       "/* Specification for estimator info (e.g. \"i\" and \"?\") */\n",
       "\n",
       "/* Common style for \"i\" and \"?\" */\n",
       "\n",
       ".sk-estimator-doc-link,\n",
       "a:link.sk-estimator-doc-link,\n",
       "a:visited.sk-estimator-doc-link {\n",
       "  float: right;\n",
       "  font-size: smaller;\n",
       "  line-height: 1em;\n",
       "  font-family: monospace;\n",
       "  background-color: var(--sklearn-color-background);\n",
       "  border-radius: 1em;\n",
       "  height: 1em;\n",
       "  width: 1em;\n",
       "  text-decoration: none !important;\n",
       "  margin-left: 1ex;\n",
       "  /* unfitted */\n",
       "  border: var(--sklearn-color-unfitted-level-1) 1pt solid;\n",
       "  color: var(--sklearn-color-unfitted-level-1);\n",
       "}\n",
       "\n",
       ".sk-estimator-doc-link.fitted,\n",
       "a:link.sk-estimator-doc-link.fitted,\n",
       "a:visited.sk-estimator-doc-link.fitted {\n",
       "  /* fitted */\n",
       "  border: var(--sklearn-color-fitted-level-1) 1pt solid;\n",
       "  color: var(--sklearn-color-fitted-level-1);\n",
       "}\n",
       "\n",
       "/* On hover */\n",
       "div.sk-estimator:hover .sk-estimator-doc-link:hover,\n",
       ".sk-estimator-doc-link:hover,\n",
       "div.sk-label-container:hover .sk-estimator-doc-link:hover,\n",
       ".sk-estimator-doc-link:hover {\n",
       "  /* unfitted */\n",
       "  background-color: var(--sklearn-color-unfitted-level-3);\n",
       "  color: var(--sklearn-color-background);\n",
       "  text-decoration: none;\n",
       "}\n",
       "\n",
       "div.sk-estimator.fitted:hover .sk-estimator-doc-link.fitted:hover,\n",
       ".sk-estimator-doc-link.fitted:hover,\n",
       "div.sk-label-container:hover .sk-estimator-doc-link.fitted:hover,\n",
       ".sk-estimator-doc-link.fitted:hover {\n",
       "  /* fitted */\n",
       "  background-color: var(--sklearn-color-fitted-level-3);\n",
       "  color: var(--sklearn-color-background);\n",
       "  text-decoration: none;\n",
       "}\n",
       "\n",
       "/* Span, style for the box shown on hovering the info icon */\n",
       ".sk-estimator-doc-link span {\n",
       "  display: none;\n",
       "  z-index: 9999;\n",
       "  position: relative;\n",
       "  font-weight: normal;\n",
       "  right: .2ex;\n",
       "  padding: .5ex;\n",
       "  margin: .5ex;\n",
       "  width: min-content;\n",
       "  min-width: 20ex;\n",
       "  max-width: 50ex;\n",
       "  color: var(--sklearn-color-text);\n",
       "  box-shadow: 2pt 2pt 4pt #999;\n",
       "  /* unfitted */\n",
       "  background: var(--sklearn-color-unfitted-level-0);\n",
       "  border: .5pt solid var(--sklearn-color-unfitted-level-3);\n",
       "}\n",
       "\n",
       ".sk-estimator-doc-link.fitted span {\n",
       "  /* fitted */\n",
       "  background: var(--sklearn-color-fitted-level-0);\n",
       "  border: var(--sklearn-color-fitted-level-3);\n",
       "}\n",
       "\n",
       ".sk-estimator-doc-link:hover span {\n",
       "  display: block;\n",
       "}\n",
       "\n",
       "/* \"?\"-specific style due to the `<a>` HTML tag */\n",
       "\n",
       "#sk-container-id-1 a.estimator_doc_link {\n",
       "  float: right;\n",
       "  font-size: 1rem;\n",
       "  line-height: 1em;\n",
       "  font-family: monospace;\n",
       "  background-color: var(--sklearn-color-background);\n",
       "  border-radius: 1rem;\n",
       "  height: 1rem;\n",
       "  width: 1rem;\n",
       "  text-decoration: none;\n",
       "  /* unfitted */\n",
       "  color: var(--sklearn-color-unfitted-level-1);\n",
       "  border: var(--sklearn-color-unfitted-level-1) 1pt solid;\n",
       "}\n",
       "\n",
       "#sk-container-id-1 a.estimator_doc_link.fitted {\n",
       "  /* fitted */\n",
       "  border: var(--sklearn-color-fitted-level-1) 1pt solid;\n",
       "  color: var(--sklearn-color-fitted-level-1);\n",
       "}\n",
       "\n",
       "/* On hover */\n",
       "#sk-container-id-1 a.estimator_doc_link:hover {\n",
       "  /* unfitted */\n",
       "  background-color: var(--sklearn-color-unfitted-level-3);\n",
       "  color: var(--sklearn-color-background);\n",
       "  text-decoration: none;\n",
       "}\n",
       "\n",
       "#sk-container-id-1 a.estimator_doc_link.fitted:hover {\n",
       "  /* fitted */\n",
       "  background-color: var(--sklearn-color-fitted-level-3);\n",
       "}\n",
       "</style><div id=\"sk-container-id-1\" class=\"sk-top-container\"><div class=\"sk-text-repr-fallback\"><pre>DecisionTreeClassifier(random_state=1234)</pre><b>In a Jupyter environment, please rerun this cell to show the HTML representation or trust the notebook. <br />On GitHub, the HTML representation is unable to render, please try loading this page with nbviewer.org.</b></div><div class=\"sk-container\" hidden><div class=\"sk-item\"><div class=\"sk-estimator fitted sk-toggleable\"><input class=\"sk-toggleable__control sk-hidden--visually\" id=\"sk-estimator-id-1\" type=\"checkbox\" checked><label for=\"sk-estimator-id-1\" class=\"sk-toggleable__label fitted sk-toggleable__label-arrow fitted\">&nbsp;&nbsp;DecisionTreeClassifier<a class=\"sk-estimator-doc-link fitted\" rel=\"noreferrer\" target=\"_blank\" href=\"https://scikit-learn.org/1.5/modules/generated/sklearn.tree.DecisionTreeClassifier.html\">?<span>Documentation for DecisionTreeClassifier</span></a><span class=\"sk-estimator-doc-link fitted\">i<span>Fitted</span></span></label><div class=\"sk-toggleable__content fitted\"><pre>DecisionTreeClassifier(random_state=1234)</pre></div> </div></div></div></div>"
      ],
      "text/plain": [
       "DecisionTreeClassifier(random_state=1234)"
      ]
     },
     "execution_count": 2,
     "metadata": {},
     "output_type": "execute_result"
    }
   ],
   "source": [
    "from sklearn.tree import DecisionTreeClassifier, DecisionTreeRegressor\n",
    "clf = DecisionTreeClassifier(random_state=1234)\n",
    "clf.fit(X_train, y_train)"
   ]
  },
  {
   "cell_type": "markdown",
   "id": "47541620-d762-4690-abda-9513b30c48ca",
   "metadata": {},
   "source": [
    "Let's explore the obtained tree:"
   ]
  },
  {
   "cell_type": "code",
   "execution_count": 3,
   "id": "d5eb8c09-3917-42a5-a850-7e9b6b098b35",
   "metadata": {},
   "outputs": [
    {
     "data": {
      "image/png": "[encoded data removed]",
      "text/plain": [
       "<Figure size 1200x700 with 1 Axes>"
      ]
     },
     "metadata": {},
     "output_type": "display_data"
    }
   ],
   "source": [
    "from sklearn.tree import plot_tree\n",
    "\n",
    "plt.figure(figsize=(12,7))\n",
    "plot_tree(clf, filled=True, max_depth=1, impurity=False)\n",
    "plt.show()"
   ]
  },
  {
   "cell_type": "markdown",
   "id": "fab140e6-fd88-4535-b940-77b78e989451",
   "metadata": {},
   "source": [
    "<div class=\"alert alert-danger\"> \n",
    "\n",
    "🚨🚨**HOWEVER**🚨🚨\n",
    "    \n",
    "A single Decision Tree is generally unstable, because it is highly sensitive to small changes in the training data. Even small variations in the data can lead to very different tree structures, making predictions vary significantly if we train the model on different subsets of the data.\n",
    "</div>"
   ]
  },
  {
   "cell_type": "code",
   "execution_count": 4,
   "id": "4dd07384-fdc5-4185-98e5-54517d4b98b3",
   "metadata": {},
   "outputs": [
    {
     "data": {
      "image/png": "[encoded data removed]",
      "text/plain": [
       "<Figure size 1200x1200 with 7 Axes>"
      ]
     },
     "metadata": {},
     "output_type": "display_data"
    }
   ],
   "source": [
    "from matplotlib import gridspec\n",
    "\n",
    "fig = plt.figure(figsize=(12, 12))  \n",
    "gs = gridspec.GridSpec(3, 3, figure=fig, hspace=0.6)  \n",
    "ax = fig.add_subplot(gs[0, 1])  \n",
    "\n",
    "clf = DecisionTreeClassifier(random_state=1234)\n",
    "clf.fit(X_train, y_train)\n",
    "acc = clf.score(X_test, y_test)\n",
    "DecisionBoundaryDisplay.from_estimator(clf, \n",
    "                                       X_train, \n",
    "                                       cmap=plt.cm.RdBu, \n",
    "                                       response_method=\"predict\", \n",
    "                                       ax=ax, \n",
    "                                       xlabel=\"feature 1\", \n",
    "                                       ylabel=\"feature 2\")\n",
    "\n",
    "ax.scatter(X_test[y_test==0][:,0], X_test[y_test==0][:,1], c=\"r\", edgecolor=\"black\", s=50)\n",
    "ax.scatter(X_test[y_test==1][:,0], X_test[y_test==1][:,1], c=\"b\", edgecolor=\"black\", s=50)\n",
    "ax.set_title(f\"Observed data \\n (acc = {acc*100:.1f})\", size=25)\n",
    "\n",
    "for i in range(6):\n",
    "    row = (i // 3) + 1  # rows 1 to 3\n",
    "    col = i % 3\n",
    "    ax = fig.add_subplot(gs[row, col])\n",
    "    X_resampled, y_resampled = resample(X_train, y_train, random_state=i)\n",
    "    clf.fit(X_resampled, y_resampled)\n",
    "    acc = clf.score(X_test, y_test)\n",
    "\n",
    "    DecisionBoundaryDisplay.from_estimator(clf, X_train, cmap=plt.cm.RdBu, response_method=\"predict\",\n",
    "                                           ax=ax,\n",
    "                                           xlabel=\"feature 1\",\n",
    "                                           ylabel=\"feature 2\")\n",
    "\n",
    "    ax.scatter(X_test[y_test==0][:,0], X_test[y_test==0][:,1], c=\"r\", edgecolor=\"black\", s=50)\n",
    "    ax.scatter(X_test[y_test==1][:,0], X_test[y_test==1][:,1], c=\"b\", edgecolor=\"black\", s=50)\n",
    "    ax.set_title(f\"Resampled data \\n (acc = {acc*100:.1f})\", size=15)"
   ]
  },
  {
   "attachments": {},
   "cell_type": "markdown",
   "id": "377aab3d-b3f7-4aa9-a7c6-75f274e4060f",
   "metadata": {},
   "source": [
    "You can see how unstable the decision boundaries — and therefore the prediction accuracy — can be.\n",
    "\n",
    "But you might be wondering: *Why do we not just stick to the data we have? Why do we need to look at different “copies” of the data?*\n",
    "\n",
    "Because:\n",
    "\n",
    "- In the real world, there is always an element of randomness or noise, which you might miss if you only rely on **one model** trained on a **fixed dataset**.\n",
    "- We want the model to **account for these random variations** and still perform well — not just on the training data, but more generally.\n",
    "- Put another way: in statistics, we use **bootstrapping** to simulate different samples from the real world, not just the one dataset we happen to observe. The idea here is similar — we create different versions of the data to build more **robust** and **realistic** models.\n",
    "\n",
    "This motivates the idea of **bagging**."
   ]
  },
  {
   "cell_type": "markdown",
   "id": "72920adb-c6f7-4d52-b83b-28084dc8d568",
   "metadata": {},
   "source": [
    "## 2. Bagging\n",
    "\n",
    "**Bagging** is short for **Bootstrap Aggregating**. Instead of training a single unstable model, bagging involves training many models on different bootstrapped samples of the data. Then, predictions are made based on the output of all the models combined. This approach reduces variance and leads to more robust and stable predictions."
   ]
  },
  {
   "cell_type": "markdown",
   "id": "c0ee6b51-a4f4-4be1-8f77-65cceffa7787",
   "metadata": {},
   "source": [
    "Let's fit 50 decision trees on different version of the data by bootstrapping\n"
   ]
  },
  {
   "cell_type": "code",
   "execution_count": 5,
   "id": "a40b2ae5-96a1-4cf9-9714-ad040ab791a4",
   "metadata": {},
   "outputs": [],
   "source": [
    "n_estimators = 50\n",
    "\n",
    "estims = []\n",
    "for ii in range(n_estimators):\n",
    "    X_resampled, y_resampled = resample(X_train, y_train, random_state=ii)\n",
    "    clf = DecisionTreeClassifier(random_state=1234)\n",
    "    clf.fit(X_resampled, y_resampled)\n",
    "    estims.append(clf)"
   ]
  },
  {
   "cell_type": "markdown",
   "id": "08c81f4c-d2a1-466c-bd1a-92042e1f2a44",
   "metadata": {},
   "source": [
    "We can make predictions using each decision tree:"
   ]
  },
  {
   "cell_type": "code",
   "execution_count": 6,
   "id": "733146dd-f15f-4b00-bf10-2ee967cea2b4",
   "metadata": {},
   "outputs": [
    {
     "data": {
      "text/plain": [
       "(100, 50)"
      ]
     },
     "execution_count": 6,
     "metadata": {},
     "output_type": "execute_result"
    }
   ],
   "source": [
    "X_preds = np.column_stack([estim.predict(X_test) for estim in estims])\n",
    "X_preds.shape"
   ]
  },
  {
   "cell_type": "markdown",
   "id": "441cc22d-6b20-44fb-9d2c-34da735147d1",
   "metadata": {},
   "source": [
    "Let's look at one example:"
   ]
  },
  {
   "cell_type": "code",
   "execution_count": 7,
   "id": "de65fcde-9bc3-4d3b-86f0-426e13ba4778",
   "metadata": {},
   "outputs": [
    {
     "data": {
      "text/plain": [
       "array([1, 1, 1, 1, 1, 1, 1, 1, 1, 1, 1, 1, 1, 1, 1, 1, 1, 1, 1, 1, 1, 0,\n",
       "       1, 1, 1, 1, 1, 1, 1, 1, 1, 1, 1, 1, 1, 1, 1, 1, 1, 1, 1, 1, 1, 1,\n",
       "       1, 1, 1, 1, 1, 1])"
      ]
     },
     "execution_count": 7,
     "metadata": {},
     "output_type": "execute_result"
    }
   ],
   "source": [
    "X_preds[0,:]"
   ]
  },
  {
   "cell_type": "markdown",
   "id": "55d6dcd9-cf3e-4f81-956f-aea1c31fdf3c",
   "metadata": {},
   "source": [
    "In this observation, all the decision trees but one assign the label 1, so we would trust this label.\n",
    "\n",
    "We then assign each observation the label chosen by the majority of the trees (welcome, democracy!)."
   ]
  },
  {
   "cell_type": "code",
   "execution_count": 8,
   "id": "35695674-ce2b-4212-adf8-0003ff5a96b0",
   "metadata": {},
   "outputs": [
    {
     "data": {
      "text/plain": [
       "array([[ 1., 49.],\n",
       "       [35., 15.],\n",
       "       [ 0., 50.],\n",
       "       [14., 36.],\n",
       "       [39., 11.]])"
      ]
     },
     "execution_count": 8,
     "metadata": {},
     "output_type": "execute_result"
    }
   ],
   "source": [
    "preds_counts = np.zeros(X_test.shape)\n",
    "\n",
    "# Iterate through each row of the array\n",
    "for ii, row in enumerate(X_preds):\n",
    "    preds_counts[ii, 0] = sum(row==0)\n",
    "    preds_counts[ii, 1] = sum(row==1)\n",
    "# THe first 5 observations\n",
    "preds_counts[:5]"
   ]
  },
  {
   "cell_type": "markdown",
   "id": "9156b506-a1bc-4752-a6f2-6ef0efd365ed",
   "metadata": {},
   "source": [
    "Like we said, we assign the label chosen by the majority:"
   ]
  },
  {
   "cell_type": "code",
   "execution_count": 9,
   "id": "54ce16c5-5843-4a21-adab-896aee6684f2",
   "metadata": {},
   "outputs": [],
   "source": [
    "y_pred = np.argmax(preds_counts, axis=1)"
   ]
  },
  {
   "cell_type": "code",
   "execution_count": 10,
   "id": "bccc6e42-6d09-4357-8466-2b71b90e17f1",
   "metadata": {},
   "outputs": [
    {
     "data": {
      "text/plain": [
       "0.85"
      ]
     },
     "execution_count": 10,
     "metadata": {},
     "output_type": "execute_result"
    }
   ],
   "source": [
    "accuracy_score(y_test, y_pred)"
   ]
  },
  {
   "cell_type": "markdown",
   "id": "157a8df3-f784-427b-8a02-6957792b3b04",
   "metadata": {},
   "source": [
    "Compare to using just one decision tree:"
   ]
  },
  {
   "cell_type": "code",
   "execution_count": 11,
   "id": "dd3c1c69-9cc0-4641-a87a-2383b1f1fc91",
   "metadata": {},
   "outputs": [
    {
     "data": {
      "text/plain": [
       "0.75"
      ]
     },
     "execution_count": 11,
     "metadata": {},
     "output_type": "execute_result"
    }
   ],
   "source": [
    "clf = DecisionTreeClassifier(random_state=1234)\n",
    "clf.fit(X_train, y_train)\n",
    "accuracy_score(y_test, clf.predict(X_test))"
   ]
  },
  {
   "cell_type": "markdown",
   "id": "47a50873-b948-4813-9b6a-68ae5ab01e74",
   "metadata": {},
   "source": [
    "In regression, since we don't have labels but continuos data, what we do is average the predictions."
   ]
  },
  {
   "cell_type": "markdown",
   "id": "84881704-f4ab-4578-8b92-0904d94bce36",
   "metadata": {},
   "source": [
    "This that we have done manually, you can do it in `scikit-learn` through the `BaggingClassifier` and `BaggingRegressor` classes."
   ]
  },
  {
   "cell_type": "code",
   "execution_count": 12,
   "id": "737f8a51-f483-4ae3-80a9-09baa7b740fe",
   "metadata": {},
   "outputs": [
    {
     "data": {
      "text/plain": [
       "0.85"
      ]
     },
     "execution_count": 12,
     "metadata": {},
     "output_type": "execute_result"
    }
   ],
   "source": [
    "from sklearn.ensemble import BaggingClassifier\n",
    "\n",
    "bagging_clf = BaggingClassifier(estimator=DecisionTreeClassifier(random_state=1234), \n",
    "                        n_estimators=50, random_state=12)\n",
    "bagging_clf.fit(X_train, y_train)\n",
    "accuracy_score(y_test, bagging_clf.predict(X_test))"
   ]
  },
  {
   "cell_type": "markdown",
   "id": "a06471e5-c2fe-4c61-a659-d9fe36622402",
   "metadata": {},
   "source": [
    "<div class=\"alert alert-info\"> \n",
    "\n",
    "𝐈𝐌𝐏𝐎𝐑𝐓𝐀𝐍𝐓\n",
    "\n",
    "Bagging is a concept, meaning it can be applied to **any** estimator, not just decision trees.\n",
    "\n",
    "</div>"
   ]
  },
  {
   "cell_type": "code",
   "execution_count": 13,
   "id": "353ee458-4c96-4a10-9707-005533309022",
   "metadata": {},
   "outputs": [
    {
     "data": {
      "text/plain": [
       "0.66"
      ]
     },
     "execution_count": 13,
     "metadata": {},
     "output_type": "execute_result"
    }
   ],
   "source": [
    "from sklearn.linear_model import LogisticRegression\n",
    "baggin_logReg = BaggingClassifier(estimator=LogisticRegression(), \n",
    "                        n_estimators=50, random_state=12)\n",
    "baggin_logReg.fit(X_train, y_train)\n",
    "accuracy_score(y_test, baggin_logReg.predict(X_test))"
   ]
  },
  {
   "cell_type": "markdown",
   "id": "edb81746-7ea3-465a-a566-945278fdbdf8",
   "metadata": {},
   "source": [
    "### Out-of-Bag (OOB) Error\n",
    "\n",
    "One of the cool advantages of bagging is that we can estimate the model's prediction performance **without using a separate validation set**. This is done using the **Out-of-Bag (OOB) Error**.\n",
    "\n",
    "When creating bootstrapped samples, some observations from the original dataset are **left out** in each sample (on average, about 1/3 of the data). These unused observations are called **out-of-bag samples**.\n",
    "\n",
    "We can use these OOB samples to evaluate the model trained on the corresponding bootstrap sample:\n",
    "\n",
    "- For each observation, we collect predictions **only from the models that did not see it during training**.\n",
    "- We then compare the aggregated prediction to the true value.\n",
    "\n",
    "This gives us an **OOB error estimate**, which serves as a reliable proxy for test error.\n",
    "\n",
    "In `scikit-learn`, you can allow this by setting the parameter `oob_score` to True."
   ]
  },
  {
   "cell_type": "code",
   "execution_count": 14,
   "id": "94d2a6a6-79f1-4770-95b8-c9e7af824cb4",
   "metadata": {},
   "outputs": [
    {
     "data": {
      "text/plain": [
       "0.804"
      ]
     },
     "execution_count": 14,
     "metadata": {},
     "output_type": "execute_result"
    }
   ],
   "source": [
    "bagging_clf = BaggingClassifier(estimator=DecisionTreeClassifier(random_state=1234), \n",
    "                                n_estimators=50, random_state=12, oob_score=True)\n",
    "\n",
    "bagging_clf.fit(X, y)\n",
    "bagging_clf.oob_score_"
   ]
  },
  {
   "cell_type": "markdown",
   "id": "7bf1e669-bd44-4adb-8c44-94a34a957089",
   "metadata": {},
   "source": [
    "#### Discussion: Is Out-of-Bag (OOB) Error Enough?\n",
    "\n",
    "Out-of-Bag error gives us a way to estimate model performance *without* needing a separate validation or test set. But is it always enough?\n",
    "\n",
    "Let's have 5 minutes to think about:\n",
    "\n",
    "- What are the **advantages** of using OOB error?\n",
    "- What are the **potential limitations**?\n",
    "- Can you think of situations where you would still prefer to have a separate **test set**?\n",
    "- Would you report OOB error as your final performance metric in a published study or production setting? Why or why not?\n"
   ]
  },
  {
   "cell_type": "markdown",
   "id": "21bdc081-ae1e-4c38-9e13-2d149d7be733",
   "metadata": {},
   "source": [
    "### Feature Importance in Bagging\n",
    "\n",
    "You probably learned that in decision trees you get a measure of feature importance, which is based on how much a feature **reduces impurity** (such as Gini, entropy, or mean squared error) when it is used to split the data.\n",
    "\n",
    "When applying bagging to decision trees, since we train **multiple trees** and each tree provides its own estimate of feature importance, we can **average** these importance scores across all the trees. This gives us a **more stable and reliable estimate** of which features are most influential."
   ]
  },
  {
   "cell_type": "code",
   "execution_count": 15,
   "id": "35278a8b-7ecf-4dc7-a86d-739e0ab23cec",
   "metadata": {},
   "outputs": [
    {
     "data": {
      "text/plain": [
       "array([0.38722035, 0.61277965])"
      ]
     },
     "execution_count": 15,
     "metadata": {},
     "output_type": "execute_result"
    }
   ],
   "source": [
    "importances = np.mean([\n",
    "    tree.feature_importances_ for tree in bagging_clf.estimators_\n",
    "], axis=0)\n",
    "\n",
    "importances"
   ]
  },
  {
   "cell_type": "markdown",
   "id": "810b8898-ec8b-401b-90e0-36f27c2f1858",
   "metadata": {},
   "source": [
    "## 3. Random Forest: Bagging + Randomness in Features\n",
    "\n",
    "We have just seen that **bagging** improves model stability and performance by training multiple models on different bootstrapped samples.\n",
    "\n",
    "But what if we inject **even more randomness**, this time in the features? That is exactly what **Random Forests** do.\n",
    "\n",
    "A **Random Forest** applies **bagging** to decision trees, but with one key difference: at each split in the tree, only a **random subset of features** is considered, rather than all features.\n",
    "\n",
    "Why doing this?\n",
    "\n",
    "- To **decorrelate the trees**, so they make more independent errors.\n",
    "- To **reduce overfitting** even further.\n",
    "- To improve **predictive performance** in many cases.\n",
    "\n",
    "In summary, a Random Forest is an extension of bagging where randomness is introduced not only in the data (through bootstrapping) but also in the features.\n",
    "\n",
    "In `scikit-learn`, you can use `ensemble.RandomForestClassifier` or `ensemble.RandomForestRegressor`."
   ]
  },
  {
   "cell_type": "code",
   "execution_count": 16,
   "id": "d43c1a23-df26-4067-abf4-f3e2be3e1a5e",
   "metadata": {},
   "outputs": [
    {
     "data": {
      "text/plain": [
       "0.87"
      ]
     },
     "execution_count": 16,
     "metadata": {},
     "output_type": "execute_result"
    }
   ],
   "source": [
    "from sklearn.ensemble import RandomForestClassifier\n",
    "\n",
    "# Define the classifer\n",
    "rf_clf = RandomForestClassifier(n_estimators=50, random_state=1234)\n",
    "\n",
    "# Fit to the training data\n",
    "rf_clf.fit(X_train, y_train)\n",
    "\n",
    "# Predict\n",
    "rf_clf.score(X_test, y_test)"
   ]
  },
  {
   "cell_type": "markdown",
   "id": "91f1a826-d616-4f4f-8516-32ce8f54738d",
   "metadata": {},
   "source": [
    "### How many random features? \n",
    "\n",
    "We mentioned that at each split, a **random subset of features** (instead of all features) is chosen to determine the best split. But how many random features should we select at each split?\n",
    "\n",
    "Remember:\n",
    "\n",
    "- If **all features** are always considered, the trees tend to become **more similar** to each other (more correlated).\n",
    "- Limiting the number of features at each split makes the trees **more diverse**.\n",
    "\n",
    "Therefore, **diversity is crucial** for reducing variance and improving generalization.\n",
    "\n",
    "In `scikit-learn`, this is controlled by the `max_features` parameter.\n",
    "\n",
    "So, how many features should we select?  \n",
    "\n",
    "There is no one-size-fits-all rule. For some datasets, encouraging more diversity (smaller subsets of features) might lead to better performance. For others, using more features may work better.\n",
    "\n",
    "As always, this is a **hyperparameter to tune via cross-validation!**"
   ]
  },
  {
   "cell_type": "markdown",
   "id": "31d5be24-74ad-4d92-85a1-d712134affd3",
   "metadata": {},
   "source": [
    "### Feature Importance in Random Forest\n",
    "\n",
    "Explainability in Random Forests is an inherent property, since they are built on decision trees.\n",
    "\n",
    "As mentioned earlier, in a decision tree feature importance scores reflect how much each feature contributes to **reducing impurity** (such as Gini or MSE). In Random Forest, this would be across the entire ensemble.\n",
    "\n",
    "In `scikit-learn`, the attribute `feature_importances_` automatically **averages the importance scores across all trees** in the forest, giving you a single importance value for each feature."
   ]
  },
  {
   "cell_type": "code",
   "execution_count": 17,
   "id": "07234bb9-1adb-443e-9b53-d352c4bbf64c",
   "metadata": {},
   "outputs": [
    {
     "data": {
      "text/plain": [
       "array([0.39320268, 0.60679732])"
      ]
     },
     "execution_count": 17,
     "metadata": {},
     "output_type": "execute_result"
    }
   ],
   "source": [
    "rf_clf.feature_importances_"
   ]
  },
  {
   "cell_type": "markdown",
   "id": "5fd2e4ab-32f4-4650-a430-e7781e44ab2a",
   "metadata": {},
   "source": [
    "## 4. Summary\n",
    "\n",
    "- **Decision Trees** are unstable models, meaning that small changes in the data can lead to very different trees. They also tend to **overfit** the training data if not properly constrained.\n",
    "\n",
    "- **Bagging (Bootstrap Aggregating)** improves model performance by training multiple models on different **bootstrapped samples** of the data and then **aggregating** their predictions (e.g., majority vote or average). This reduces **variance** and leads to more **robust** predictions.\n",
    "\n",
    "- **Out-of-Bag (OOB) Error** provides an internal estimate of generalization performance using only the training data, removing the need for a separate validation set.\n",
    "\n",
    "- **Random Forests** extend Bagging by adding further randomness in the **features**: at each split in a tree, only a **random subset of features** is considered. This decorrelates the trees, reduces overfitting even more, and often improves predictive performance.\n"
   ]
  },
  {
   "cell_type": "markdown",
   "id": "937a48b8-9844-478a-b532-20f0ebfc2305",
   "metadata": {},
   "source": [
    "## 📝 5. Exercises\n",
    "\n",
    "### 5.1 Exercise  — Visualizing the Power of Bagging\n",
    "\n",
    "Using the same toy dataset as in this lesson, plot the decision boundaries of the following models:\n",
    "\n",
    "- A single **Decision Tree**\n",
    "- A **BaggingClassifier** wrapping a decision tree\n",
    "- A **RandomForestClassifier**\n",
    "\n",
    "Once you have visualized these decision boundaries, respond:\n",
    "\n",
    "- How does the decision boundary of the single tree compare to the others?\n",
    "- Does bagging and Random Forest smooth the decision boundary? If so, how?\n",
    "- How does the Random Forest compare to Bagging?"
   ]
  },
  {
   "cell_type": "code",
   "execution_count": 18,
   "id": "42221f8a-a166-4dd4-9769-d4af7cb687f3",
   "metadata": {},
   "outputs": [],
   "source": [
    "# YOUR CODE"
   ]
  },
  {
   "cell_type": "markdown",
   "id": "1b8ff315-1513-41c1-a3c6-ce7c07aa5b31",
   "metadata": {},
   "source": [
    "### 5.2 Exercise  — Tuning a Random Forest\n",
    "\n",
    "In this exercise, you tune a **Random Forest** classifier.\n",
    "\n",
    "Using the same dataset from this lesson:\n",
    "\n",
    "Apply `GridSearchCV` to tune the following hyperparameters of a `RandomForestClassifier`:\n",
    "\n",
    "- `n_estimators`: [5, 20, 100]\n",
    "- `max_depth`: [2, 5, None]\n",
    "- `max_features`: ['sqrt', 'log2', 1.0]\n",
    "\n",
    "Use 5-fold cross-validation and evaluate performance using **accuracy**.\n",
    "\n",
    "Once the best model is found:\n",
    "\n",
    "- Plot the **decision boundary** of the best estimator.\n",
    "- Report the **test accuracy** and show the **confusion matrix**.\n",
    "\n",
    "After this, answer to the following questions:\n",
    "\n",
    "- Which combination of parameters was selected by the grid search?\n",
    "- How do `n_estimators`, `max_depth`, and `max_features` influence the model’s generalization performance?\n"
   ]
  },
  {
   "cell_type": "code",
   "execution_count": 108,
   "id": "cc4dab9e-3dbb-46c7-b963-c1241aaf68dd",
   "metadata": {},
   "outputs": [],
   "source": [
    "# YOUR CODE"
   ]
  }
 ],
 "metadata": {
  "kernelspec": {
   "display_name": "Python 3 (ipykernel)",
   "language": "python",
   "name": "python3"
  },
  "language_info": {
   "codemirror_mode": {
    "name": "ipython",
    "version": 3
   },
   "file_extension": ".py",
   "mimetype": "text/x-python",
   "name": "python",
   "nbconvert_exporter": "python",
   "pygments_lexer": "ipython3",
   "version": "3.11.9"
  }
 },
 "nbformat": 4,
 "nbformat_minor": 5
}
