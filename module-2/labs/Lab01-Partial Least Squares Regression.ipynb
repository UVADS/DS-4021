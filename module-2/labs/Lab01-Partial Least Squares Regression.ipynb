{
 "cells": [
  {
   "cell_type": "markdown",
   "id": "6c27c270-e1f1-4d9b-bcb8-e921cfd40387",
   "metadata": {},
   "source": [
    "# 🧪LAB: Partial Least Squares Regression"
   ]
  },
  {
   "cell_type": "markdown",
   "id": "2dc1e2a9-9d96-4d0b-895f-126ee4a80f7d",
   "metadata": {},
   "source": [
    "In this lab, you will explore **Partial Least Squares (PLS) Regression**, a powerful technique for modeling relationships between high-dimensional, collinear predictors and a continuous outcome. You will begin with a **group discussion** after reading about the method. Next, you will become familiar with its implementation in `scikit-learn` by **recreating and reflecting on one of their tutorials**. Finally, you will apply PLS to a **real-world chemoinformatics dataset** that includes binary molecular fingerprints as predictors and a continuous permeability outcome for a set of chemical compounds.\n",
    "\n",
    "PLS is particularly useful when the number of predictors is large and highly correlated, making traditional regression methods unstable or ineffective. You will also compare PLS with an alternative predictive model that also involves a dimensionality reduction approac **Penalized Principal Component Regression (PCR)**.\n",
    "\n",
    "---\n",
    "\n",
    "**Collaboration Note**: This assignment is designed to support collaborative work. We encourage you to divide tasks among group members so that everyone can contribute meaningfully. Many components of the assignment can be approached in parallel or split logically across team members. Good coordination and thoughtful integration of your work will lead to a stronger final result.\n",
    "\n",
    "--- \n",
    "\n",
    "In total, this lab assignment will be worth **100 points**."
   ]
  },
  {
   "cell_type": "markdown",
   "id": "c64324ce-d24c-4056-873f-3828a1ec4332",
   "metadata": {},
   "source": [
    "## 1. Reading & Group Discussion (10 Points)\n",
    "\n",
    "Carefully read **Sections 6.2 and 6.3** of the *An Introduction to Statistical Learning* book (Reference B). The first section introduces Principal Component Regression (PCR), which we already covered in a previous class. The second section, instead, introduces Partial Least Squares (PLS).\n",
    "\n",
    "After reviewing the content, discuss with your group and then answer the following questions:\n",
    "\n",
    "a. What is the key difference between Principal Component Regression (PCR) and Partial Least Squares (PLS)\n",
    "\n",
    "b. Why might PCR fail to find directions that are useful for predicting the response `Y`? \n",
    "\n",
    "c. In PLS, how is the first direction `Z₁` computed? \n",
    "\n",
    "d. What are some similarities and differences between PLS and penalized regression? "
   ]
  },
  {
   "cell_type": "markdown",
   "id": "f3f5efc1-b806-410d-9ce5-c8ca4fcfc91a",
   "metadata": {},
   "source": [
    "YOUR TEXT HERE"
   ]
  },
  {
   "cell_type": "markdown",
   "id": "28cb9e06-3e76-48ee-b8f2-fa80c0c31fdb",
   "metadata": {},
   "source": [
    "## 2. Recreate, Explain, Experiment & Reflect (40 Points)\n",
    "\n",
    "Follow this tutorial on Partial Least Squares (PLS) from the official scikit-learn documentation:\n",
    "\n",
    "📘 [scikit-learn: PLS regression example](https://scikit-learn.org/stable/auto_examples/cross_decomposition/plot_pcr_vs_pls.html)\n",
    "\n",
    "Your goal is to **recreate the PLS portion of the tutorial in this notebook**, and make sure you understand what each part of the code is doing. This will give you the opportunity to build intuition for how PLS works. Be thorough in your answers and interpretations — this will help you when working with real data later in this lab assignment.\n",
    "\n",
    "### a. Recreate\n",
    "- Load the dataset used in the tutorial. Make sure to create a training/test partition.\n",
    "- Fit a `PLSRegression` model with 1 component. "
   ]
  },
  {
   "cell_type": "code",
   "execution_count": null,
   "id": "5d1d8afc-564f-44c2-8005-706f5f3210df",
   "metadata": {},
   "outputs": [],
   "source": [
    "# YOUR CODE HERE"
   ]
  },
  {
   "cell_type": "markdown",
   "id": "3758afc1-f9f1-4984-9f80-bb6fcaacb707",
   "metadata": {},
   "source": [
    "### b. Explain\n",
    "For **every block of code**, add a markdown cell that explains:\n",
    "\n",
    "- What is the goal of this step?\n",
    "- Why is this important in a PLS regression pipeline?\n",
    "- What does the output mean or tell us?"
   ]
  },
  {
   "cell_type": "markdown",
   "id": "24948f88-5681-4a69-9746-a57f00c26fb1",
   "metadata": {},
   "source": [
    "YOUR TEXT HERE"
   ]
  },
  {
   "cell_type": "markdown",
   "id": "d8482020-0e61-46ee-9ce6-9392489d0dc9",
   "metadata": {},
   "source": [
    "### c. Experiment\n",
    "Make the following changes:\n",
    "- Change the number of components to **2 components** and fit again the model.\n",
    "- Plot the **predicted vs. actual** response values on the test set.\n",
    "- Report **R²** and **Mean Squared Error (MSE)** for your model\n",
    "- On the test set, create scatter plots showing all pairs of each component on X against each component on Y. (Hint: you can use the `transform` method for this). In the title, show the correlation coefficient between both components."
   ]
  },
  {
   "cell_type": "code",
   "execution_count": null,
   "id": "4ae9eedb-c4ad-4224-8b72-af3a6ac1eb54",
   "metadata": {},
   "outputs": [],
   "source": [
    "# YOUR CODE HERE"
   ]
  },
  {
   "cell_type": "markdown",
   "id": "243e5ad8-1ca7-4a26-803a-7927f3e72735",
   "metadata": {},
   "source": [
    "### d. Reflect\n",
    "Finally, answer these questions:\n",
    "\n",
    "- What do the learned PLS components represent in your dataset?\n",
    "- Did increasing the number of components improve performance?\n",
    "- What makes PLS different from PCA?"
   ]
  },
  {
   "cell_type": "markdown",
   "id": "1ee015a0-4bce-4ed7-863d-38bb6e1a8368",
   "metadata": {},
   "source": [
    "YOUR TEXT HERE"
   ]
  },
  {
   "cell_type": "markdown",
   "id": "bf0886f9-2eef-4925-86bd-0bf648b78abb",
   "metadata": {},
   "source": [
    "## 3. PLS on real data: Molecular Fingerprints and Permeability (50 points)\n",
    "\n",
    "In this final part of the lab, you will apply PLS Regression to a real-world, high-dimensional dataset from pharmaceutical research.\n",
    "\n",
    "The goal is to build a predictive model of compound permeability—a key property that determines a molecule’s ability to cross biological membranes such as the intestinal wall or the blood–brain barrier. Permeability is critical in drug development, as compounds that cannot reach their target tissues may ultimately fail despite promising initial results.\n",
    "\n",
    "You will work with a dataset containing 165 compounds characterized by 1,107 binary molecular fingerprints, which indicate the presence or absence of specific chemical substructures. Your task is to use PLS to predict each compound's permeability and evaluate whether such a model could serve as a computational alternative to expensive, labor-intensive lab assays.\n",
    "\n",
    "Here the link to the dataset: https://github.com/UVADS/DS-4021/blob/84e85842222820f6d60bfdfd051c6d1556d98479/datasets/lab01_data.csv\n",
    "\n",
    "### a. Prepare data\n",
    "\n",
    "- Load the dataset.\n",
    "- Separate the molecular fingerprint variables (`X`) from the permeability values (`y`).\n",
    "- Split the data into training and test sets (e.g., 70/30 split).\n",
    "\n",
    "### b. Create a pipeline.\n",
    "\n",
    "Create a pipeline that includes the following: \n",
    "\n",
    "- A variance thresholding step to remove near-constant binary features, since molecular fingerprints are typically sparse.\n",
    "(Hint: you may want to check the `feature_selection` module in `scikit-learn`.)\n",
    "- A standardization step.\n",
    "- The Partial Least Squares Regression method.\n",
    "\n",
    "### c. Optimize and train.\n",
    "\n",
    "After you create the pipeline, you should optimize (using cross-validation) and train your pipeline. Your optimization should tune the number of PLS components. After training, report:\n",
    "\n",
    "- The number of predictors remaining after the variance thresholding step\n",
    "- The selected number of PLS components\n",
    "- The cross-validated **R²** on the training set.\n",
    "\n",
    "\n",
    "### d. Evaluate\n",
    "\n",
    "- Use the best PLS model to predict permeability on the test set\n",
    "- Report the test set R²\n",
    "\n",
    "### e. Compare.\n",
    "\n",
    "- Compare with the performance obtained using a penalized principal component regression. You may experiment with Lasso, Ridge or/and ElasticNet. Make sure to encapsulate this model into a pipeline and optimize it as well.\n",
    "\n",
    "\n",
    "### f. Reflect\n",
    "\n",
    "Discuss:\n",
    "- Which model performed best?\n",
    "- Would you trust any of your models enough to replace the permeability lab assay?\n",
    "- What would be the trade-offs of doing so?"
   ]
  },
  {
   "cell_type": "code",
   "execution_count": null,
   "id": "29517349-e426-4fed-ac89-9819f1d21d16",
   "metadata": {},
   "outputs": [],
   "source": [
    "# YOUR ANSWERS FROM HERE"
   ]
  }
 ],
 "metadata": {
  "kernelspec": {
   "display_name": "Python 3 (ipykernel)",
   "language": "python",
   "name": "python3"
  },
  "language_info": {
   "codemirror_mode": {
    "name": "ipython",
    "version": 3
   },
   "file_extension": ".py",
   "mimetype": "text/x-python",
   "name": "python",
   "nbconvert_exporter": "python",
   "pygments_lexer": "ipython3",
   "version": "3.11.9"
  }
 },
 "nbformat": 4,
 "nbformat_minor": 5
}
