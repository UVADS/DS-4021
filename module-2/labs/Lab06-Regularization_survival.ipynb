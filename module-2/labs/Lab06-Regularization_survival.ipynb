{
 "cells": [
  {
   "cell_type": "markdown",
   "id": "2f92aa19-43da-4ee0-977b-4ac8e7294c44",
   "metadata": {},
   "source": [
    "# 🧪LAB: Penalized Regression for Survival Analysis\n",
    "\n",
    "We have already seen how regularization works in regression and classification tasks by adding a penalty to the cost function. But real-world problems are not restricted to this kind of tasks. One of these examples is survival analysis. \n",
    "\n",
    "In this lab, you will be exposed to applying machine learning for survival analysis and with penalization. In particular, you will learn how to use **penalization techniques** in **Cox proportional hazards model** and apply all of this to survival data. \n",
    "\n",
    "---\n",
    "\n",
    "**Dataset**: In this lab, you will work with a real-world dataset focused on lung squamous cell carcinoma (LUSC), a histological subtype of lung cancer. Lung cancer remains one of the leading causes of cancer-related deaths globally, and LUSC, in particular, is associated with poor prognosis and substantial biological and clinical heterogeneity.\n",
    "\n",
    "Your goal with this dataset is to identify prognostic biomarkers that could help predict patient outcomes. You will analyze gene expression and clinical data from patients diagnosed with LUSC.\n",
    "\n",
    "- The dataset includes a total of 473 patients with complete records.\n",
    "- For each patient, you are given:\n",
    "  - 378 gene expression features\n",
    "  - 4 clinical covariates:  \n",
    "    - Age at diagnosis  \n",
    "    - Gender  \n",
    "    - Smoking history  \n",
    "    - Tumor stage\n",
    "- The target outcome is overall survival.  \n",
    "  - For patients who did not experience the event (death), survival times are right-censored at the date of last follow-up.\n",
    "\n",
    "This dataset provides a rich opportunity to apply penalized regression techniques to model survival outcomes, identify predictive features, and assess their clinical relevance.\n",
    "\n",
    "---\n",
    "\n",
    "**Software**: In this lab you will get familiar with `scikit-survival`, which is a library adapting `scikit-learn` to survival analysis.\n",
    "\n",
    "---\n",
    "\n",
    "\n",
    "**Collaboration Note**: This assignment is designed to support collaborative work. We encourage you to divide tasks among group members so that everyone can contribute meaningfully. Many components of the assignment can be approached in parallel or split logically across team members. Good coordination and thoughtful integration of your work will lead to a stronger final result.\n",
    "\n",
    "--- \n",
    "\n",
    "In total, this lab assignment will be worth **100 points**."
   ]
  },
  {
   "cell_type": "markdown",
   "id": "7603f28b-535e-48e9-a238-cbfe9e078ee6",
   "metadata": {},
   "source": [
    "\n",
    "## 1. Background Reading and Conceptual Understanding (30 points)\n",
    "\n",
    "Familiarize yourself with survival analysis using `scikit-survival`. Visit the [User Guide](https://scikit-survival.readthedocs.io) and read **Sections 1, 2, 3, and 5**.\n",
    "\n",
    "Then, answer the following questions in your own words:\n",
    "\n",
    "- What makes survival analysis different from standard regression or classification tasks?  \n",
    "- How should the outcome variable be formatted for survival analysis?  \n",
    "- Which class in `scikit-survival` is used to fit a **Cox model with L1 (Lasso) regularization**?  \n",
    "- What class can be used to **tune the regularization parameter**?  \n",
    "- What metrics are available to evaluate Cox model performance in `scikit-survival`, and what functions implement them?\n",
    "\n",
    "Please, elaborate on your answers. Use as many cells as needed."
   ]
  },
  {
   "cell_type": "markdown",
   "id": "6e326259-2a69-42d9-bc01-962c15f2de03",
   "metadata": {},
   "source": [
    "YOUR ANSWERS HERE"
   ]
  },
  {
   "cell_type": "markdown",
   "id": "9a0a10f1-8de1-49ce-bef4-5734a33371d9",
   "metadata": {},
   "source": [
    "## 2. Data Preparation (10 points)\n",
    "\n",
    "- Load the dataset using `pandas`.  \n",
    "- Prepare the input features (`X`), and the outcome data using the columns `OS_STATUS` and `OS_MONTHS`.  \n",
    "- Split the data into training (80%) and testing (20%) sets using `scikit-learn`."
   ]
  },
  {
   "cell_type": "code",
   "execution_count": null,
   "id": "ce203c5c-dd23-4d92-9209-24dcb589b9c6",
   "metadata": {},
   "outputs": [],
   "source": [
    "# YOUR CODE HERE"
   ]
  },
  {
   "cell_type": "markdown",
   "id": "fd1772bd-1600-48c4-8fb7-9867c988c3f5",
   "metadata": {},
   "source": [
    "## 3. Model Fitting and Evaluation (30 points)\n",
    "\n",
    "- Fit and evaluate a Cox model **without** penalization.  \n",
    "- Tune, fit, and evaluate a Cox model with **L1 (Lasso)** penalty. Identify which features were selected by the penalized model.  "
   ]
  },
  {
   "cell_type": "code",
   "execution_count": null,
   "id": "34dc4d8d-7a58-4052-8e55-0474a574ba15",
   "metadata": {},
   "outputs": [],
   "source": [
    "# YOUR CODE HERE"
   ]
  },
  {
   "cell_type": "markdown",
   "id": "252a3781-ba0a-4578-84e9-a3872c423671",
   "metadata": {},
   "source": [
    "## 4. Analysis, Discussion, and Conclusion (25 points)\n",
    "\n",
    "- Discuss the performance of both models.  \n",
    "- Interpret the results of variable selection from the penalized model.  \n",
    "- Reflect on what the L1 penalty accomplished in terms of sparsity or interpretability.  \n",
    "- Summarize key takeaways from your analysis.  \n",
    "- Mention any limitations or improvements you would consider if you had more time or data.\n",
    "\n",
    "Please, elaborate on your answers. Use as many cells as needed."
   ]
  },
  {
   "cell_type": "markdown",
   "id": "828d391c-31bf-4dcc-b1ca-824d69f56bc3",
   "metadata": {},
   "source": [
    "YOUR ANSWERS HERE"
   ]
  },
  {
   "cell_type": "markdown",
   "id": "743e1ca8-a4ca-47db-8bdd-d322b480d958",
   "metadata": {},
   "source": [
    "## 5. Collaboration Reflection (5 points)\n",
    "\n",
    "As a group, briefly reflect on the following (max 1–2 short paragraphs):\n",
    "\n",
    "- How did the group dynamics work throughout the assignment?\n",
    "- Were there any major disagreements or diverging approaches?\n",
    "- How did you resolve conflicts or make final modeling decisions?\n",
    "- What did you learn from each other during this project?"
   ]
  },
  {
   "cell_type": "markdown",
   "id": "45178bf1-53d7-4b0a-83fc-18825ccfd59b",
   "metadata": {},
   "source": [
    "YOUR ANSWERS HERE"
   ]
  }
 ],
 "metadata": {
  "kernelspec": {
   "display_name": "Python 3 (ipykernel)",
   "language": "python",
   "name": "python3"
  },
  "language_info": {
   "codemirror_mode": {
    "name": "ipython",
    "version": 3
   },
   "file_extension": ".py",
   "mimetype": "text/x-python",
   "name": "python",
   "nbconvert_exporter": "python",
   "pygments_lexer": "ipython3",
   "version": "3.11.9"
  }
 },
 "nbformat": 4,
 "nbformat_minor": 5
}
