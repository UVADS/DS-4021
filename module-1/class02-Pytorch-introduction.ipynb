{
 "cells": [
  {
   "cell_type": "markdown",
   "id": "d2a67a88-9823-40ec-8012-75b31464f660",
   "metadata": {},
   "source": [
    "# Introduction to PyTorch \n",
    "\n",
    "`PyTorch` is a Python-based scientific computing package serving two broad purposes:\n",
    "\n",
    "- A replacement for NumPy to use the power of GPUs.\n",
    "- An automatic differentiation library, This will come handy when having to calculate gradients, as these are essential for neural networks optmization.\n",
    "\n",
    "Some advantages of `PyTorch` over other similar libraries (e.g., `TensorFlow`) are its simplicity and the fact that it was built natively in Python, making it more intuitive and easier to use for Python developers.\n",
    "\n",
    "At the end of this lesson you should:\n",
    "\n",
    "- Understand why we use `PyTorch`.\n",
    "- Learn the main features of `PyTorch`.\n"
   ]
  },
  {
   "cell_type": "markdown",
   "id": "cc0126ff-dd87-4e3a-a342-72b275cfae11",
   "metadata": {},
   "source": [
    "## 1. Installing and importing PyTorch"
   ]
  },
  {
   "cell_type": "markdown",
   "id": "4dfdc72f-7908-452a-a659-2b4ad7576a0e",
   "metadata": {},
   "source": [
    "We will first install PyTorch through the Python's pip installer by executing the following command:"
   ]
  },
  {
   "cell_type": "code",
   "execution_count": null,
   "id": "72cca875-e24a-42f9-8172-0be059d8e20d",
   "metadata": {},
   "outputs": [],
   "source": [
    "!pip install torch torchvision"
   ]
  },
  {
   "cell_type": "markdown",
   "id": "2b647aa2-a399-4f2c-9771-439130b3ae99",
   "metadata": {},
   "source": [
    "Once installed, we can import it. We will also import `NumPy`"
   ]
  },
  {
   "cell_type": "code",
   "execution_count": 3,
   "id": "0ec6242d-da5d-4209-ae26-8573b3aa4725",
   "metadata": {},
   "outputs": [],
   "source": [
    "import torch\n",
    "import numpy as np"
   ]
  },
  {
   "cell_type": "markdown",
   "id": "c3b1abfb-f5d5-4896-b448-d5e99c46a891",
   "metadata": {},
   "source": [
    "## 2. Tensors\n",
    "\n",
    "Tensors are the main data structure in PyTorch. They are used to encode inputs and outputs and to perform computations. In many ways, they are similar to `NumPy` arrays, except that they can run on GPUs."
   ]
  },
  {
   "cell_type": "markdown",
   "id": "5fb82626-f7d8-4eca-80bb-73f38e9ce34d",
   "metadata": {},
   "source": [
    "### 2.1 Initilization"
   ]
  },
  {
   "cell_type": "markdown",
   "id": "bd5a2fd7-c735-451e-be15-96a5b8da66ff",
   "metadata": {},
   "source": [
    "`.tensor()`: directly from a list of data."
   ]
  },
  {
   "cell_type": "code",
   "execution_count": 4,
   "id": "ac51f144-4813-488e-96e7-c2827c42d70d",
   "metadata": {},
   "outputs": [
    {
     "data": {
      "text/plain": [
       "tensor([[1, 2],\n",
       "        [3, 4]])"
      ]
     },
     "execution_count": 4,
     "metadata": {},
     "output_type": "execute_result"
    }
   ],
   "source": [
    "data = [[1, 2], [3, 4]]\n",
    "x_data = torch.tensor(data)\n",
    "x_data"
   ]
  },
  {
   "cell_type": "markdown",
   "id": "b7d858a0-5179-4cd1-aad3-8809f1d31bff",
   "metadata": {},
   "source": [
    "`.from_numpy()`: from a numpy array"
   ]
  },
  {
   "cell_type": "code",
   "execution_count": 5,
   "id": "c946110d-7308-4256-bfaf-ebb1b831786d",
   "metadata": {},
   "outputs": [
    {
     "data": {
      "text/plain": [
       "tensor([[1, 2],\n",
       "        [3, 4]])"
      ]
     },
     "execution_count": 5,
     "metadata": {},
     "output_type": "execute_result"
    }
   ],
   "source": [
    "np_array = np.array(data)\n",
    "x_np = torch.from_numpy(np_array)\n",
    "x_np"
   ]
  },
  {
   "cell_type": "markdown",
   "id": "ba11626c-8b78-435e-b65d-9d0ad254e6f8",
   "metadata": {},
   "source": [
    "`.zeros()`, `.ones()`, `.rand()`: They initialize tensors with constant or random values, respectively, given a specific shape."
   ]
  },
  {
   "cell_type": "code",
   "execution_count": 6,
   "id": "5d9a7abe-87d4-4f76-8d62-75dfed84628d",
   "metadata": {},
   "outputs": [
    {
     "name": "stdout",
     "output_type": "stream",
     "text": [
      "Random Tensor: \n",
      " tensor([[[0.8834, 0.5425],\n",
      "         [0.8239, 0.8566]],\n",
      "\n",
      "        [[0.2978, 0.1709],\n",
      "         [0.3613, 0.9654]]]) \n",
      "\n",
      "Ones Tensor: \n",
      " tensor([[[1., 1.],\n",
      "         [1., 1.]],\n",
      "\n",
      "        [[1., 1.],\n",
      "         [1., 1.]]]) \n",
      "\n",
      "Zeros Tensor: \n",
      " tensor([[[0., 0.],\n",
      "         [0., 0.]],\n",
      "\n",
      "        [[0., 0.],\n",
      "         [0., 0.]]])\n"
     ]
    }
   ],
   "source": [
    "shape = (2, 2, 2)\n",
    "rand_tensor = torch.rand(shape)\n",
    "ones_tensor = torch.ones(shape)\n",
    "zeros_tensor = torch.zeros(shape)\n",
    "\n",
    "print(f\"Random Tensor: \\n {rand_tensor} \\n\")\n",
    "print(f\"Ones Tensor: \\n {ones_tensor} \\n\")\n",
    "print(f\"Zeros Tensor: \\n {zeros_tensor}\")"
   ]
  },
  {
   "cell_type": "markdown",
   "id": "c110ca40-3343-48ea-bd0f-e3479f739449",
   "metadata": {},
   "source": [
    "`.ones_like()`, `.rand_like()`: They initialize tensors of ones and random numbers respectively, but retaining the properties (shape, datatype) of the original tensor."
   ]
  },
  {
   "cell_type": "code",
   "execution_count": 7,
   "id": "f48349de-cb28-4a4c-bf9e-51c74e51ce0e",
   "metadata": {},
   "outputs": [
    {
     "name": "stdout",
     "output_type": "stream",
     "text": [
      " Tensor of ones: \n",
      " tensor([[1, 1],\n",
      "        [1, 1]]) \n",
      "\n",
      "Tensor of random numbers: \n",
      " tensor([[0.8780, 0.3566],\n",
      "        [0.4789, 0.4242]]) \n",
      "\n"
     ]
    }
   ],
   "source": [
    "x_ones = torch.ones_like(x_data) \n",
    "print(f\" Tensor of ones: \\n {x_ones} \\n\")\n",
    "\n",
    "x_rand = torch.rand_like(x_data, dtype=torch.float) # overrides the datatype of x_data\n",
    "print(f\"Tensor of random numbers: \\n {x_rand} \\n\")"
   ]
  },
  {
   "cell_type": "markdown",
   "id": "3f8e894a-04c8-4662-b0da-cea97c5b4986",
   "metadata": {},
   "source": [
    "The following would fail because `rand_like` is only implemented for floating-point types and does not automatically upcast other types."
   ]
  },
  {
   "cell_type": "code",
   "execution_count": 8,
   "id": "186816eb-8d12-47b5-adba-83818f2acbbd",
   "metadata": {},
   "outputs": [
    {
     "ename": "RuntimeError",
     "evalue": "\"check_uniform_bounds\" not implemented for 'Long'",
     "output_type": "error",
     "traceback": [
      "\u001b[0;31m---------------------------------------------------------------------------\u001b[0m",
      "\u001b[0;31mRuntimeError\u001b[0m                              Traceback (most recent call last)",
      "Cell \u001b[0;32mIn[8], line 1\u001b[0m\n\u001b[0;32m----> 1\u001b[0m torch\u001b[38;5;241m.\u001b[39mrand_like(x_data)\n",
      "\u001b[0;31mRuntimeError\u001b[0m: \"check_uniform_bounds\" not implemented for 'Long'"
     ]
    }
   ],
   "source": [
    "torch.rand_like(x_data)"
   ]
  },
  {
   "cell_type": "markdown",
   "id": "0cb99cd5-e19a-497f-bbc1-84e283739352",
   "metadata": {},
   "source": [
    "### 2.2 Attributes"
   ]
  },
  {
   "cell_type": "code",
   "execution_count": 10,
   "id": "ef08265b-5983-4b52-85e7-04ed959157aa",
   "metadata": {},
   "outputs": [
    {
     "name": "stdout",
     "output_type": "stream",
     "text": [
      "Shape of tensor: torch.Size([2, 2, 3])\n",
      "Datatype of tensor: torch.float32\n",
      "Device tensor is stored on: cpu\n"
     ]
    }
   ],
   "source": [
    "rand_tensor = torch.rand((2,2,3))\n",
    "\n",
    "print(f\"Shape of tensor: {rand_tensor.shape}\")\n",
    "print(f\"Datatype of tensor: {rand_tensor.dtype}\")\n",
    "print(f\"Device tensor is stored on: {rand_tensor.device}\")"
   ]
  },
  {
   "cell_type": "markdown",
   "id": "ddb7f3b6-b547-44b5-b684-a73bbf6c0dae",
   "metadata": {},
   "source": [
    "### 2.3 Some methods"
   ]
  },
  {
   "cell_type": "markdown",
   "id": "bb20b724-acad-4639-8fe9-e6d1a9667416",
   "metadata": {},
   "source": [
    "- `.flatten()`: Convert to a 1D tensor"
   ]
  },
  {
   "cell_type": "code",
   "execution_count": 45,
   "id": "bad3d49e-05ec-4bcc-9ed0-769442ba29fc",
   "metadata": {},
   "outputs": [
    {
     "name": "stdout",
     "output_type": "stream",
     "text": [
      "tensor([0.8953, 0.2115, 0.7669, 0.3520, 0.3678, 0.6777, 0.4700, 0.7755, 0.6938,\n",
      "        0.5987, 0.0118, 0.0060], device='cuda:0')\n",
      "torch.Size([12])\n"
     ]
    }
   ],
   "source": [
    "rand_tensor_1d = rand_tensor.flatten()\n",
    "print(rand_tensor_1d)\n",
    "print(rand_tensor_1d.flatten().shape)"
   ]
  },
  {
   "cell_type": "markdown",
   "id": "60d6e036-d8f7-4ca3-8c22-56ed8b0cf84c",
   "metadata": {},
   "source": [
    "- `.reshape()`: Change the shape of the sensor"
   ]
  },
  {
   "cell_type": "code",
   "execution_count": 51,
   "id": "7545b8bd-7ee3-4904-9a7c-5e3720defd7c",
   "metadata": {},
   "outputs": [
    {
     "name": "stdout",
     "output_type": "stream",
     "text": [
      "tensor([[0.8953],\n",
      "        [0.2115],\n",
      "        [0.7669],\n",
      "        [0.3520],\n",
      "        [0.3678],\n",
      "        [0.6777],\n",
      "        [0.4700],\n",
      "        [0.7755],\n",
      "        [0.6938],\n",
      "        [0.5987],\n",
      "        [0.0118],\n",
      "        [0.0060]], device='cuda:0')\n",
      "torch.Size([12, 1])\n"
     ]
    }
   ],
   "source": [
    "rand_tensor_reshaped = rand_tensor_1d.reshape((12,1))\n",
    "\n",
    "print(rand_tensor_reshaped)\n",
    "print(rand_tensor_reshaped.shape)"
   ]
  },
  {
   "cell_type": "markdown",
   "id": "658970f0-9dab-4281-b8a0-00f467c005fc",
   "metadata": {},
   "source": [
    "- `.squeeze()`:  Remove single-dimensional entries"
   ]
  },
  {
   "cell_type": "code",
   "execution_count": 53,
   "id": "5d9ad425-5289-4368-8d56-a4d829663e10",
   "metadata": {},
   "outputs": [
    {
     "name": "stdout",
     "output_type": "stream",
     "text": [
      "tensor([0.8953, 0.2115, 0.7669, 0.3520, 0.3678, 0.6777, 0.4700, 0.7755, 0.6938,\n",
      "        0.5987, 0.0118, 0.0060], device='cuda:0')\n",
      "torch.Size([12])\n"
     ]
    }
   ],
   "source": [
    "rand_tensor_squeeze = rand_tensor_reshaped.squeeze()\n",
    "\n",
    "print(rand_tensor_squeeze)\n",
    "print(rand_tensor_squeeze.shape)"
   ]
  },
  {
   "cell_type": "markdown",
   "id": "b968bbc1-bb46-4722-bae1-e53e211a6165",
   "metadata": {},
   "source": [
    "### Operations\n",
    "\n",
    "An operation can be run on CPU or GPU, which, if available, is typically faster.\n"
   ]
  },
  {
   "cell_type": "code",
   "execution_count": 14,
   "id": "c3a50b06-77b1-4f22-ab1a-0f2f00fdfb87",
   "metadata": {},
   "outputs": [],
   "source": [
    "if torch.cuda.is_available():\n",
    "  rand_tensor = rand_tensor.to('cuda')"
   ]
  },
  {
   "cell_type": "markdown",
   "id": "6721be37-b720-404a-bee8-58c698338551",
   "metadata": {},
   "source": [
    "- **indexing and slicing**\n",
    "\n",
    "This is similar to `NumPy`"
   ]
  },
  {
   "cell_type": "code",
   "execution_count": 15,
   "id": "e41599e9-b28d-4f91-a70c-ba519190f221",
   "metadata": {},
   "outputs": [
    {
     "name": "stdout",
     "output_type": "stream",
     "text": [
      "tensor([[0.0059, 0.8722],\n",
      "        [0.4371, 0.9406],\n",
      "        [0.6000, 0.1199]])\n",
      "tensor([[0.0000, 0.0000, 0.0000],\n",
      "        [0.4371, 0.9406, 0.1961],\n",
      "        [0.6000, 0.1199, 0.5274]])\n"
     ]
    }
   ],
   "source": [
    "tensor = torch.rand((3,3))\n",
    "print(tensor[:,:2])\n",
    "\n",
    "tensor[0, :] = 0  \n",
    "print(tensor)"
   ]
  },
  {
   "cell_type": "markdown",
   "id": "588d2a33-f4e5-4d59-a06a-c565cb61456d",
   "metadata": {},
   "source": [
    "**Joining**\n",
    "\n",
    "- In a given dimension"
   ]
  },
  {
   "cell_type": "code",
   "execution_count": 26,
   "id": "79234c05-1145-4874-b31a-0268efdde1fc",
   "metadata": {},
   "outputs": [
    {
     "name": "stdout",
     "output_type": "stream",
     "text": [
      "tensor([[0.0000, 0.0000, 0.0000, 0.0000, 0.0000, 0.0000, 0.0000, 0.0000, 0.0000],\n",
      "        [0.4371, 0.9406, 0.1961, 0.4371, 0.9406, 0.1961, 0.4371, 0.9406, 0.1961],\n",
      "        [0.6000, 0.1199, 0.5274, 0.6000, 0.1199, 0.5274, 0.6000, 0.1199, 0.5274]])\n",
      "Size: torch.Size([3, 9])\n"
     ]
    }
   ],
   "source": [
    "t1 = torch.cat([tensor, tensor, tensor], dim=1)\n",
    "print(t1)\n",
    "print(\"Size:\", t1.shape)"
   ]
  },
  {
   "cell_type": "markdown",
   "id": "b62428bb-86f9-4ff0-b360-c3cf3ee1bdd8",
   "metadata": {},
   "source": [
    "- Along  a new dimension"
   ]
  },
  {
   "cell_type": "code",
   "execution_count": 27,
   "id": "a2c33ee5-df4e-4833-a048-6267f04bb8d9",
   "metadata": {},
   "outputs": [
    {
     "name": "stdout",
     "output_type": "stream",
     "text": [
      "tensor([[[0.0000, 0.0000, 0.0000],\n",
      "         [0.4371, 0.9406, 0.1961],\n",
      "         [0.6000, 0.1199, 0.5274]],\n",
      "\n",
      "        [[0.0000, 0.0000, 0.0000],\n",
      "         [0.4371, 0.9406, 0.1961],\n",
      "         [0.6000, 0.1199, 0.5274]],\n",
      "\n",
      "        [[0.0000, 0.0000, 0.0000],\n",
      "         [0.4371, 0.9406, 0.1961],\n",
      "         [0.6000, 0.1199, 0.5274]]])\n",
      "torch.Size([3, 3, 3])\n"
     ]
    }
   ],
   "source": [
    "t2 = torch.stack([tensor, tensor, tensor])\n",
    "print(t2)\n",
    "\n",
    "print(t2.shape)"
   ]
  },
  {
   "cell_type": "markdown",
   "id": "4f6ec9b3-b6c1-44bf-ab60-1bc8a6c55d9c",
   "metadata": {},
   "source": [
    "**Multiplying**\n",
    "\n",
    "- Element-wise:"
   ]
  },
  {
   "cell_type": "code",
   "execution_count": 28,
   "id": "e31bfad4-fc7c-4799-ae39-8bae8b3278a4",
   "metadata": {},
   "outputs": [
    {
     "name": "stdout",
     "output_type": "stream",
     "text": [
      "tensor.mul(tensor) \n",
      " tensor([[0.0000, 0.0000, 0.0000],\n",
      "        [0.1911, 0.8848, 0.0385],\n",
      "        [0.3600, 0.0144, 0.2782]]) \n",
      "\n",
      "tensor * tensor \n",
      " tensor([[0.0000, 0.0000, 0.0000],\n",
      "        [0.1911, 0.8848, 0.0385],\n",
      "        [0.3600, 0.0144, 0.2782]])\n"
     ]
    }
   ],
   "source": [
    "print(f\"tensor.mul(tensor) \\n {tensor.mul(tensor)} \\n\")\n",
    "\n",
    "# Alternatively:\n",
    "print(f\"tensor * tensor \\n {tensor * tensor}\")"
   ]
  },
  {
   "cell_type": "markdown",
   "id": "5f868cc0-e0a4-4090-8ea7-1e3482579a57",
   "metadata": {},
   "source": [
    "- Algebraically:"
   ]
  },
  {
   "cell_type": "code",
   "execution_count": 29,
   "id": "1672bad4-a5a7-4d24-8c47-efcbf6d8ba4e",
   "metadata": {},
   "outputs": [
    {
     "name": "stdout",
     "output_type": "stream",
     "text": [
      "tensor_a.matmul(tensor_b) \n",
      " tensor([[0.0000, 0.0000],\n",
      "        [0.7385, 1.0233],\n",
      "        [0.6661, 0.5493]]) \n",
      "\n",
      "tensor_a @ tensor_b \n",
      " tensor([[0.0000, 0.0000],\n",
      "        [0.7385, 1.0233],\n",
      "        [0.6661, 0.5493]])\n"
     ]
    }
   ],
   "source": [
    "tensor_a = torch.rand((3,3))\n",
    "tensor_b = torch.rand((3,2))\n",
    "print(f\"tensor_a.matmul(tensor_b) \\n {tensor.matmul(tensor_b)} \\n\")\n",
    "\n",
    "# Alternatively:\n",
    "print(f\"tensor_a @ tensor_b \\n {tensor @ tensor_b}\")"
   ]
  },
  {
   "cell_type": "markdown",
   "id": "a1d13a92-1edc-41e7-a2a1-098ab9468b5a",
   "metadata": {},
   "source": [
    "- In-place:\n",
    "\n",
    "Any tensor's method that has a ``_`` suffix are in-place (e.g. `.copy_()` will create a copy, `.t_()` will transpose, etc).\n",
    "\n"
   ]
  },
  {
   "cell_type": "code",
   "execution_count": 30,
   "id": "1c572963-e90a-4471-b360-476ef0de8f2d",
   "metadata": {},
   "outputs": [
    {
     "name": "stdout",
     "output_type": "stream",
     "text": [
      "tensor([[0.2734, 0.5806],\n",
      "        [0.1785, 0.6944],\n",
      "        [0.7930, 0.6472]]) \n",
      "\n",
      "tensor([[10.2734, 10.5806],\n",
      "        [10.1785, 10.6944],\n",
      "        [10.7930, 10.6472]]) \n",
      "\n",
      "tensor([[10.2734, 10.1785, 10.7930],\n",
      "        [10.5806, 10.6944, 10.6472]])\n"
     ]
    }
   ],
   "source": [
    "tensor = torch.rand((3,2))\n",
    "\n",
    "print(tensor, \"\\n\")\n",
    "tensor.add_(10)\n",
    "print(tensor, \"\\n\")\n",
    "\n",
    "tensor.t_()\n",
    "print(tensor)"
   ]
  },
  {
   "cell_type": "markdown",
   "id": "8e21ee0f-c8c3-4279-955e-197e4d2773ce",
   "metadata": {},
   "source": [
    "More tensor operations can be found in https://pytorch.org/docs/stable/torch.html\n"
   ]
  },
  {
   "cell_type": "markdown",
   "id": "6662cd50-52df-40f8-9733-63a3a53e5ee6",
   "metadata": {},
   "source": [
    "## 3. PyTorch and NumPy"
   ]
  },
  {
   "cell_type": "markdown",
   "id": "28e7ce6b-6855-4abf-b5b5-57298c3c6d6c",
   "metadata": {},
   "source": [
    "Tensors on the CPU and NumPy arrays can share their underlying memory locations, and changing one will change\tthe other.\n"
   ]
  },
  {
   "cell_type": "markdown",
   "id": "2d1891cd-aaad-4656-94ab-fa54fc1502be",
   "metadata": {},
   "source": [
    "- `.numpy()`: Tensor to array"
   ]
  },
  {
   "cell_type": "code",
   "execution_count": 40,
   "id": "d0b3bbe3-3f87-44ca-9f19-a3c0573824a1",
   "metadata": {},
   "outputs": [
    {
     "name": "stdout",
     "output_type": "stream",
     "text": [
      "t: tensor([1., 1., 1., 1., 1.])\n",
      "n: [1. 1. 1. 1. 1.]\n"
     ]
    }
   ],
   "source": [
    "t = torch.ones(5)\n",
    "print(f\"t: {t}\")\n",
    "n = t.numpy()\n",
    "print(f\"n: {n}\")"
   ]
  },
  {
   "cell_type": "markdown",
   "id": "49cfff7f-639c-4ddb-98d7-d33fbf9c6892",
   "metadata": {},
   "source": [
    "A change in the tensor reflects in the array."
   ]
  },
  {
   "cell_type": "code",
   "execution_count": 38,
   "id": "fb6f5f60-01ce-4fe9-83b7-c304f7962616",
   "metadata": {},
   "outputs": [
    {
     "name": "stdout",
     "output_type": "stream",
     "text": [
      "t: tensor([2., 2., 2., 2., 2.])\n",
      "n: [2. 2. 2. 2. 2.]\n"
     ]
    }
   ],
   "source": [
    "t.add_(1)\n",
    "print(f\"t: {t}\")\n",
    "print(f\"n: {n}\")"
   ]
  },
  {
   "cell_type": "markdown",
   "id": "a3f74e9b-d0ee-40e2-a3d3-ba857ac5811d",
   "metadata": {},
   "source": [
    "- `.from_numpy()`: Array to tensor"
   ]
  },
  {
   "cell_type": "code",
   "execution_count": 41,
   "id": "39c9ea27-1f7a-4887-b34a-c3f42e5265cc",
   "metadata": {},
   "outputs": [],
   "source": [
    "n = np.ones(5)\n",
    "t = torch.from_numpy(n)"
   ]
  },
  {
   "cell_type": "markdown",
   "id": "b846d233-3953-42d5-b3be-7146e276ae4d",
   "metadata": {},
   "source": [
    "Again, changes in the array reflects in the tensor."
   ]
  },
  {
   "cell_type": "code",
   "execution_count": 42,
   "id": "a4840a0c-7a13-487e-8154-4abc9ae174ed",
   "metadata": {},
   "outputs": [
    {
     "name": "stdout",
     "output_type": "stream",
     "text": [
      "t: tensor([2., 2., 2., 2., 2.], dtype=torch.float64)\n",
      "n: [2. 2. 2. 2. 2.]\n"
     ]
    }
   ],
   "source": [
    "np.add(n, 1, out=n)\n",
    "print(f\"t: {t}\")\n",
    "print(f\"n: {n}\")"
   ]
  },
  {
   "cell_type": "markdown",
   "id": "47f22a1c-5e93-425a-86be-ef74e5245e14",
   "metadata": {},
   "source": [
    "## 📝 4. Exercises"
   ]
  },
  {
   "cell_type": "markdown",
   "id": "2bcaee15-c212-4620-8fd4-daa21a2326c8",
   "metadata": {},
   "source": [
    "1. **Tensor Creation & Shape Inspection.**\n",
    "   \n",
    "    **a. Create a 3×4 tensor filled with zeros.**  \n",
    "    **b. Create a 2×3×5 tensor with random values between 0 and 1.**  \n",
    "    **c. Print the shape, number of dimensions, and number of elements for each.**\n"
   ]
  },
  {
   "cell_type": "code",
   "execution_count": 59,
   "id": "10c03ac5-cbfd-4b21-98df-e2ee7fc7ed24",
   "metadata": {},
   "outputs": [],
   "source": [
    "#YOUR CODE HERE"
   ]
  },
  {
   "cell_type": "markdown",
   "id": "77a98439-d6fe-48cd-8e3f-2d465e84bcaa",
   "metadata": {},
   "source": [
    "2. **Tensor operations.**\n",
    "\n",
    "    **a. Create two 2×2 tensors and perform:**\n",
    "   \n",
    "    **- Element-wise addition**  \n",
    "    **- Element-wise multiplication**  \n",
    "    **- Element-wise division**\n",
    "   \n",
    "    **b. Perform matrix multiplication between a 2×3 and a 3×4 tensor.**  \n",
    "\n",
    "   **c. Multiply two incompatible shapes and write down the error message.**\n"
   ]
  },
  {
   "cell_type": "code",
   "execution_count": 60,
   "id": "d341d689-66e3-41d5-9bf8-1c84f18a5cb7",
   "metadata": {},
   "outputs": [],
   "source": [
    "#YOUR CODE HERE"
   ]
  },
  {
   "cell_type": "markdown",
   "id": "3a2ab353-4b34-40e9-a026-526742b43f61",
   "metadata": {},
   "source": [
    "3. **Indexing & Slicing**\n",
    "   \n",
    "    **a. Given a 4×5 tensor of random integers between 1 and 10:**\n",
    "   \n",
    "   **- Select the second row.**  \n",
    "   **- Select the third column.**  \n",
    "   **- Extract a 2×2 block from the top-left corner.**  \n",
    "\n",
    "    **b. Set all values in the first row to zero.**\n"
   ]
  },
  {
   "cell_type": "code",
   "execution_count": 61,
   "id": "e9559846-6b9b-4c53-a99b-90e5d5779bd0",
   "metadata": {},
   "outputs": [],
   "source": [
    "#YOUR CODE HERE"
   ]
  },
  {
   "cell_type": "markdown",
   "id": "d1a1fa61-844f-405b-aefc-37256a1455aa",
   "metadata": {},
   "source": [
    "4. **In-place vs Out-of-place Operations**\n",
    "\n",
    "**a. Create a tensor and square its elements:**  \n",
    "    - **First using an out-of-place operation.**  \n",
    "    - **Then using an in-place operation (e.g., `.pow_()`).**  \n",
    "\n",
    " **b. Print the memory ID (id()) of the tensor before and after each operation and explain the result.**"
   ]
  },
  {
   "cell_type": "code",
   "execution_count": 70,
   "id": "e091d24c-997b-4d16-b16b-c12a50a95641",
   "metadata": {},
   "outputs": [],
   "source": [
    "#YOUR CODE HERE"
   ]
  }
 ],
 "metadata": {
  "kernelspec": {
   "display_name": "Python 3 (ipykernel)",
   "language": "python",
   "name": "python3"
  },
  "language_info": {
   "codemirror_mode": {
    "name": "ipython",
    "version": 3
   },
   "file_extension": ".py",
   "mimetype": "text/x-python",
   "name": "python",
   "nbconvert_exporter": "python",
   "pygments_lexer": "ipython3",
   "version": "3.11.9"
  }
 },
 "nbformat": 4,
 "nbformat_minor": 5
}
